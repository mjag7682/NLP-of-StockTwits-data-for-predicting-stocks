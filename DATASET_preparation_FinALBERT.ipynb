{
  "nbformat": 4,
  "nbformat_minor": 0,
  "metadata": {
    "colab": {
      "name": "DATASET preparation FinALBERT.ipynb",
      "provenance": [],
      "toc_visible": true
    },
    "kernelspec": {
      "name": "python3",
      "display_name": "Python 3"
    }
  },
  "cells": [
    {
      "cell_type": "markdown",
      "metadata": {
        "id": "3Lj1fGpxvNsq"
      },
      "source": [
        "#Dataset preparation for FinALBERT Pre-training"
      ]
    },
    {
      "cell_type": "code",
      "metadata": {
        "id": "nEE74FKRG9AX",
        "colab": {
          "base_uri": "https://localhost:8080/"
        },
        "outputId": "590d18ee-388c-4f62-9294-35031b0d7c22"
      },
      "source": [
        "!nvidia-smi"
      ],
      "execution_count": null,
      "outputs": [
        {
          "output_type": "stream",
          "text": [
            "Thu Oct 29 06:59:31 2020       \n",
            "+-----------------------------------------------------------------------------+\n",
            "| NVIDIA-SMI 455.23.05    Driver Version: 418.67       CUDA Version: 10.1     |\n",
            "|-------------------------------+----------------------+----------------------+\n",
            "| GPU  Name        Persistence-M| Bus-Id        Disp.A | Volatile Uncorr. ECC |\n",
            "| Fan  Temp  Perf  Pwr:Usage/Cap|         Memory-Usage | GPU-Util  Compute M. |\n",
            "|                               |                      |               MIG M. |\n",
            "|===============================+======================+======================|\n",
            "|   0  Tesla P100-PCIE...  Off  | 00000000:00:04.0 Off |                    0 |\n",
            "| N/A   52C    P0    28W / 250W |      0MiB / 16280MiB |      0%      Default |\n",
            "|                               |                      |                 ERR! |\n",
            "+-------------------------------+----------------------+----------------------+\n",
            "                                                                               \n",
            "+-----------------------------------------------------------------------------+\n",
            "| Processes:                                                                  |\n",
            "|  GPU   GI   CI        PID   Type   Process name                  GPU Memory |\n",
            "|        ID   ID                                                   Usage      |\n",
            "|=============================================================================|\n",
            "|  No running processes found                                                 |\n",
            "+-----------------------------------------------------------------------------+\n"
          ],
          "name": "stdout"
        }
      ]
    },
    {
      "cell_type": "code",
      "metadata": {
        "id": "2g7NmAEt__9H",
        "colab": {
          "base_uri": "https://localhost:8080/"
        },
        "outputId": "296732d5-8910-445e-9504-d32e0536cb83"
      },
      "source": [
        "import gc\n",
        "gc.collect()"
      ],
      "execution_count": null,
      "outputs": [
        {
          "output_type": "execute_result",
          "data": {
            "text/plain": [
              "313"
            ]
          },
          "metadata": {
            "tags": []
          },
          "execution_count": 36
        }
      ]
    },
    {
      "cell_type": "code",
      "metadata": {
        "id": "Vn4Fft5KdQBK",
        "colab": {
          "base_uri": "https://localhost:8080/"
        },
        "outputId": "cde73669-7e0d-4f8e-c633-3a50aa568abc"
      },
      "source": [
        "!pip install pyarrow"
      ],
      "execution_count": null,
      "outputs": [
        {
          "output_type": "stream",
          "text": [
            "Requirement already satisfied: pyarrow in /usr/local/lib/python3.6/dist-packages (2.0.0)\n",
            "Requirement already satisfied: numpy>=1.14 in /usr/local/lib/python3.6/dist-packages (from pyarrow) (1.18.5)\n"
          ],
          "name": "stdout"
        }
      ]
    },
    {
      "cell_type": "code",
      "metadata": {
        "id": "ztSE_C2tbNG2",
        "colab": {
          "base_uri": "https://localhost:8080/"
        },
        "outputId": "1d86227c-2ccb-4160-99a1-3b59c56e9933"
      },
      "source": [
        "!pip install datasets"
      ],
      "execution_count": null,
      "outputs": [
        {
          "output_type": "stream",
          "text": [
            "Requirement already satisfied: datasets in /usr/local/lib/python3.6/dist-packages (1.1.2)\n",
            "Requirement already satisfied: pyarrow>=0.17.1 in /usr/local/lib/python3.6/dist-packages (from datasets) (2.0.0)\n",
            "Requirement already satisfied: filelock in /usr/local/lib/python3.6/dist-packages (from datasets) (3.0.12)\n",
            "Requirement already satisfied: dill in /usr/local/lib/python3.6/dist-packages (from datasets) (0.3.2)\n",
            "Requirement already satisfied: multiprocess in /usr/local/lib/python3.6/dist-packages (from datasets) (0.70.10)\n",
            "Requirement already satisfied: tqdm<4.50.0,>=4.27 in /usr/local/lib/python3.6/dist-packages (from datasets) (4.41.1)\n",
            "Requirement already satisfied: dataclasses; python_version < \"3.7\" in /usr/local/lib/python3.6/dist-packages (from datasets) (0.7)\n",
            "Requirement already satisfied: numpy>=1.17 in /usr/local/lib/python3.6/dist-packages (from datasets) (1.18.5)\n",
            "Requirement already satisfied: pandas in /usr/local/lib/python3.6/dist-packages (from datasets) (1.1.3)\n",
            "Requirement already satisfied: requests>=2.19.0 in /usr/local/lib/python3.6/dist-packages (from datasets) (2.23.0)\n",
            "Requirement already satisfied: xxhash in /usr/local/lib/python3.6/dist-packages (from datasets) (2.0.0)\n",
            "Requirement already satisfied: pytz>=2017.2 in /usr/local/lib/python3.6/dist-packages (from pandas->datasets) (2018.9)\n",
            "Requirement already satisfied: python-dateutil>=2.7.3 in /usr/local/lib/python3.6/dist-packages (from pandas->datasets) (2.8.1)\n",
            "Requirement already satisfied: idna<3,>=2.5 in /usr/local/lib/python3.6/dist-packages (from requests>=2.19.0->datasets) (2.10)\n",
            "Requirement already satisfied: chardet<4,>=3.0.2 in /usr/local/lib/python3.6/dist-packages (from requests>=2.19.0->datasets) (3.0.4)\n",
            "Requirement already satisfied: urllib3!=1.25.0,!=1.25.1,<1.26,>=1.21.1 in /usr/local/lib/python3.6/dist-packages (from requests>=2.19.0->datasets) (1.24.3)\n",
            "Requirement already satisfied: certifi>=2017.4.17 in /usr/local/lib/python3.6/dist-packages (from requests>=2.19.0->datasets) (2020.6.20)\n",
            "Requirement already satisfied: six>=1.5 in /usr/local/lib/python3.6/dist-packages (from python-dateutil>=2.7.3->pandas->datasets) (1.15.0)\n"
          ],
          "name": "stdout"
        }
      ]
    },
    {
      "cell_type": "code",
      "metadata": {
        "id": "n0DRl3b8bSZO",
        "colab": {
          "base_uri": "https://localhost:8080/"
        },
        "outputId": "bc935495-f38e-4ffe-fe69-7097f4469f00"
      },
      "source": [
        "# bookcorpus and ag_news dataset from huggingface\n",
        "from datasets import load_dataset\n",
        "\n",
        "dataset = load_dataset(\"bookcorpus\", split='train[:10%]')"
      ],
      "execution_count": null,
      "outputs": [
        {
          "output_type": "stream",
          "text": [
            "Reusing dataset bookcorpus (/root/.cache/huggingface/datasets/bookcorpus/plain_text/1.0.0/af844be26c089fb64810e9f2cd841954fd8bd596d6ddd26326e4c70e2b8c96fc)\n"
          ],
          "name": "stderr"
        }
      ]
    },
    {
      "cell_type": "code",
      "metadata": {
        "id": "4StEYpoQZu_x",
        "colab": {
          "base_uri": "https://localhost:8080/"
        },
        "outputId": "4b47f780-fc44-40c7-ce2f-a28ae9d7c454"
      },
      "source": [
        "dataset_ag = load_dataset(\"ag_news\", split='train')"
      ],
      "execution_count": null,
      "outputs": [
        {
          "output_type": "stream",
          "text": [
            "Using custom data configuration default\n",
            "Reusing dataset ag_news (/root/.cache/huggingface/datasets/ag_news/default/0.0.0/fb5c5e74a110037311ef5e904583ce9f8b9fbc1354290f97b4929f01b3f48b1a)\n"
          ],
          "name": "stderr"
        }
      ]
    },
    {
      "cell_type": "code",
      "metadata": {
        "id": "fhfpIk_ZfI9q",
        "colab": {
          "base_uri": "https://localhost:8080/"
        },
        "outputId": "e9ff67a2-5738-40df-dbe7-497b93b1c7a6"
      },
      "source": [
        "dataset_ag"
      ],
      "execution_count": null,
      "outputs": [
        {
          "output_type": "execute_result",
          "data": {
            "text/plain": [
              "Dataset(features: {'text': Value(dtype='string', id=None), 'label': ClassLabel(num_classes=4, names=['World', 'Sports', 'Business', 'Sci/Tech'], names_file=None, id=None)}, num_rows: 120000)"
            ]
          },
          "metadata": {
            "tags": []
          },
          "execution_count": 41
        }
      ]
    },
    {
      "cell_type": "code",
      "metadata": {
        "id": "hzL_QW7aZ_wb"
      },
      "source": [
        "dataset_ag = dataset_ag.sort(column='label')"
      ],
      "execution_count": null,
      "outputs": []
    },
    {
      "cell_type": "code",
      "metadata": {
        "id": "iDNhcghpfQdC"
      },
      "source": [
        "dataset_ag['label']"
      ],
      "execution_count": null,
      "outputs": []
    },
    {
      "cell_type": "code",
      "metadata": {
        "id": "Yr04-aa8adDd"
      },
      "source": [
        "#filtering only business news from ag_news\r\n",
        "dataset_ag = dataset_ag[60000:90000]"
      ],
      "execution_count": null,
      "outputs": []
    },
    {
      "cell_type": "code",
      "metadata": {
        "id": "y39GstDMO9so"
      },
      "source": [
        "import pandas as pd\n",
        "import numpy as np\n",
        "import re"
      ],
      "execution_count": null,
      "outputs": []
    },
    {
      "cell_type": "code",
      "metadata": {
        "id": "ZLyj8VpkKubR"
      },
      "source": [
        ""
      ],
      "execution_count": null,
      "outputs": []
    },
    {
      "cell_type": "markdown",
      "metadata": {
        "id": "H3HSSaOAKuzc"
      },
      "source": [
        "## vocab file creation"
      ]
    },
    {
      "cell_type": "code",
      "metadata": {
        "id": "GcarXtMD9NZg",
        "colab": {
          "base_uri": "https://localhost:8080/"
        },
        "outputId": "eda957a2-9a33-48ab-955d-752ab9b3587d"
      },
      "source": [
        "from google.colab import drive\n",
        "drive.mount('/content/drive')"
      ],
      "execution_count": null,
      "outputs": [
        {
          "output_type": "stream",
          "text": [
            "Drive already mounted at /content/drive; to attempt to forcibly remount, call drive.mount(\"/content/drive\", force_remount=True).\n"
          ],
          "name": "stdout"
        }
      ]
    },
    {
      "cell_type": "code",
      "metadata": {
        "id": "U1xMIJ-YO6uy"
      },
      "source": [
        "#Reuters dataset\n",
        "reuters = open(\"/content/drive/My Drive/ALBERTimplementation/data/reuters_docs.txt\", \"r\")"
      ],
      "execution_count": null,
      "outputs": []
    },
    {
      "cell_type": "code",
      "metadata": {
        "id": "Ww33MfzfAu8m",
        "colab": {
          "base_uri": "https://localhost:8080/"
        },
        "outputId": "f25b3f9a-2959-40c0-a065-f0400bdc2aff"
      },
      "source": [
        "gc.collect()"
      ],
      "execution_count": null,
      "outputs": [
        {
          "output_type": "execute_result",
          "data": {
            "text/plain": [
              "216"
            ]
          },
          "metadata": {
            "tags": []
          },
          "execution_count": 21
        }
      ]
    },
    {
      "cell_type": "markdown",
      "metadata": {
        "id": "cXN6KFhiwHdS"
      },
      "source": [
        "##Preprocessing data"
      ]
    },
    {
      "cell_type": "code",
      "metadata": {
        "id": "PG4GEzjw-zRq"
      },
      "source": [
        "def removeLinks(text):\n",
        "    text = re.sub(r'http\\S+', '', text, flags=re.MULTILINE)\n",
        "    return text\n",
        "headlines =  list(map(removeLinks, dataset_ag['text']))\n",
        "documents = list(map(removeLinks, dataset['text']))"
      ],
      "execution_count": null,
      "outputs": []
    },
    {
      "cell_type": "code",
      "metadata": {
        "id": "4cyreIWLf9MO",
        "colab": {
          "base_uri": "https://localhost:8080/"
        },
        "outputId": "76f07eef-05fb-47d1-8532-390016d585bf"
      },
      "source": [
        "gc.collect()"
      ],
      "execution_count": null,
      "outputs": [
        {
          "output_type": "execute_result",
          "data": {
            "text/plain": [
              "187"
            ]
          },
          "metadata": {
            "tags": []
          },
          "execution_count": 23
        }
      ]
    },
    {
      "cell_type": "code",
      "metadata": {
        "id": "nT6hFGlm-9yi"
      },
      "source": [
        "def removeHTMLTags(text):\n",
        "    text = re.sub(r'<.*?>', '', text, flags=re.MULTILINE)\n",
        "    return text\n",
        "headlines = list(map(removeHTMLTags, headlines))\n",
        "documents = list(map(removeHTMLTags, documents))"
      ],
      "execution_count": null,
      "outputs": []
    },
    {
      "cell_type": "code",
      "metadata": {
        "id": "q9RezVejayzW",
        "colab": {
          "base_uri": "https://localhost:8080/"
        },
        "outputId": "455c975a-7762-4952-f9ca-de4dd9af2694"
      },
      "source": [
        "gc.collect()"
      ],
      "execution_count": null,
      "outputs": [
        {
          "output_type": "execute_result",
          "data": {
            "text/plain": [
              "155"
            ]
          },
          "metadata": {
            "tags": []
          },
          "execution_count": 25
        }
      ]
    },
    {
      "cell_type": "code",
      "metadata": {
        "id": "UEHcOGNB_LZt"
      },
      "source": [
        "def removeWordsWithNumbers(text):\n",
        "    return re.sub(r\"\\S*\\d\\S*\", \"\", text).strip()\n",
        "headlines = list(map(removeWordsWithNumbers, headlines))\n",
        "documents = list(map(removeWordsWithNumbers, documents))"
      ],
      "execution_count": null,
      "outputs": []
    },
    {
      "cell_type": "code",
      "metadata": {
        "id": "RVAdw7Y8a0LW",
        "colab": {
          "base_uri": "https://localhost:8080/"
        },
        "outputId": "cc285f88-5173-405b-8061-d0d17681efeb"
      },
      "source": [
        "gc.collect()"
      ],
      "execution_count": null,
      "outputs": [
        {
          "output_type": "execute_result",
          "data": {
            "text/plain": [
              "148"
            ]
          },
          "metadata": {
            "tags": []
          },
          "execution_count": 27
        }
      ]
    },
    {
      "cell_type": "code",
      "metadata": {
        "id": "FUUmiDTY_Bhj"
      },
      "source": [
        "def decontracted(phrase):\n",
        "    # specific\n",
        "    phrase = re.sub(r\"won\\'t\", \"will not\", phrase)\n",
        "    phrase = re.sub(r\"can\\'t\", \"can not\", phrase)\n",
        "\n",
        "    # general\n",
        "    phrase = re.sub(r\"n\\'t\", \" not\", phrase)\n",
        "    phrase = re.sub(r\"\\'re\", \" are\", phrase)\n",
        "    phrase = re.sub(r\"\\'s\", \" is\", phrase)\n",
        "    phrase = re.sub(r\"\\'d\", \" would\", phrase)\n",
        "    phrase = re.sub(r\"\\'ll\", \" will\", phrase)\n",
        "    phrase = re.sub(r\"\\'t\", \" not\", phrase)\n",
        "    phrase = re.sub(r\"\\'ve\", \" have\", phrase)\n",
        "    phrase = re.sub(r\"\\'m\", \" am\", phrase)\n",
        "    return phrase\n",
        "headlines = list(map(decontracted, headlines))\n",
        "documents = list(map(decontracted, documents))"
      ],
      "execution_count": null,
      "outputs": []
    },
    {
      "cell_type": "code",
      "metadata": {
        "id": "ECkCh0x9_SYC"
      },
      "source": [
        "def removePuctuations(text):\n",
        "    return re.sub(r'[^A-Za-z0-9]+', ' ', text)\n",
        "headlines = list(map(removePuctuations, headlines))\n",
        "documents = list(map(removePuctuations, documents))\n",
        "\n",
        "def removeWhiteSpaces(text):\n",
        "    return text.strip()\n",
        "headlines = list(map(removeWhiteSpaces, headlines))\n",
        "documents = list(map(removeWhiteSpaces, documents))"
      ],
      "execution_count": null,
      "outputs": []
    },
    {
      "cell_type": "code",
      "metadata": {
        "id": "GZR777bNa1QO",
        "colab": {
          "base_uri": "https://localhost:8080/"
        },
        "outputId": "67d666b5-9a44-4aec-d3fe-26304d9af454"
      },
      "source": [
        "gc.collect()"
      ],
      "execution_count": null,
      "outputs": [
        {
          "output_type": "execute_result",
          "data": {
            "text/plain": [
              "0"
            ]
          },
          "metadata": {
            "tags": []
          },
          "execution_count": 30
        }
      ]
    },
    {
      "cell_type": "code",
      "metadata": {
        "id": "_5oxjqlQ_In3"
      },
      "source": [
        "def convertToLowerCase(text):\n",
        "    return text.lower()\n",
        "headlines = list(map(convertToLowerCase, headlines))\n",
        "documents = list(map(convertToLowerCase, documents))"
      ],
      "execution_count": null,
      "outputs": []
    },
    {
      "cell_type": "code",
      "metadata": {
        "id": "h3r8y43XZSHK"
      },
      "source": [
        "f = open(\"/content/drive/My Drive/ALBERTimplementation/data/kaggle/combineV2_book10per.txt\", \"x\")\n",
        "f = open(\"/content/drive/My Drive/ALBERTimplementation/data/kaggle/combineV2_book10per.txt\", \"w\")"
      ],
      "execution_count": null,
      "outputs": []
    },
    {
      "cell_type": "code",
      "metadata": {
        "id": "pNG8KHkpQM4w",
        "colab": {
          "base_uri": "https://localhost:8080/",
          "height": 204
        },
        "outputId": "95ce454d-bbea-4021-a1dc-f8edd57dbfa9"
      },
      "source": [
        "import pandas as pd\n",
        "df = pd.DataFrame({'Documents': reuters})\n",
        "df.head()"
      ],
      "execution_count": null,
      "outputs": [
        {
          "output_type": "execute_result",
          "data": {
            "text/html": [
              "<div>\n",
              "<style scoped>\n",
              "    .dataframe tbody tr th:only-of-type {\n",
              "        vertical-align: middle;\n",
              "    }\n",
              "\n",
              "    .dataframe tbody tr th {\n",
              "        vertical-align: top;\n",
              "    }\n",
              "\n",
              "    .dataframe thead th {\n",
              "        text-align: right;\n",
              "    }\n",
              "</style>\n",
              "<table border=\"1\" class=\"dataframe\">\n",
              "  <thead>\n",
              "    <tr style=\"text-align: right;\">\n",
              "      <th></th>\n",
              "      <th>Documents</th>\n",
              "    </tr>\n",
              "  </thead>\n",
              "  <tbody>\n",
              "    <tr>\n",
              "      <th>0</th>\n",
              "      <td>showers continued throughout the week in the b...</td>\n",
              "    </tr>\n",
              "    <tr>\n",
              "      <th>1</th>\n",
              "      <td>standard oil co and bp north america inc said ...</td>\n",
              "    </tr>\n",
              "    <tr>\n",
              "      <th>2</th>\n",
              "      <td>texas commerce bancshares inc s texas commerce...</td>\n",
              "    </tr>\n",
              "    <tr>\n",
              "      <th>3</th>\n",
              "      <td>bankamerica corp is not under pressure to act ...</td>\n",
              "    </tr>\n",
              "    <tr>\n",
              "      <th>4</th>\n",
              "      <td>the u s agriculture department reported the fa...</td>\n",
              "    </tr>\n",
              "  </tbody>\n",
              "</table>\n",
              "</div>"
            ],
            "text/plain": [
              "                                           Documents\n",
              "0  showers continued throughout the week in the b...\n",
              "1  standard oil co and bp north america inc said ...\n",
              "2  texas commerce bancshares inc s texas commerce...\n",
              "3  bankamerica corp is not under pressure to act ...\n",
              "4  the u s agriculture department reported the fa..."
            ]
          },
          "metadata": {
            "tags": []
          },
          "execution_count": 34
        }
      ]
    },
    {
      "cell_type": "code",
      "metadata": {
        "id": "O3yKIDt1_8d3"
      },
      "source": [
        "for vocab in documents:\n",
        "  f.write(vocab)\n",
        "  f.write('\\n')\n",
        "  f.write('\\n')\n",
        "for vo in list(df):\n",
        "  f.write(vo)\n",
        "  f.write('\\n')\n",
        "  f.write('\\n')\n",
        "for v in headlines:\n",
        "  f.write(v)\n",
        "  f.write('\\n')\n",
        "  f.write('\\n')  "
      ],
      "execution_count": null,
      "outputs": []
    }
  ]
}