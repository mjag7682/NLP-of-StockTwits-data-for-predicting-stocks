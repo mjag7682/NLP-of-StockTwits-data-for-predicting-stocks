{
  "nbformat": 4,
  "nbformat_minor": 0,
  "metadata": {
    "colab": {
      "name": "PreprocessingFinal.ipynb",
      "provenance": [],
      "toc_visible": true,
      "include_colab_link": true
    },
    "kernelspec": {
      "name": "python3",
      "display_name": "Python 3"
    },
    "accelerator": "GPU"
  },
  "cells": [
    {
      "cell_type": "markdown",
      "metadata": {
        "id": "view-in-github",
        "colab_type": "text"
      },
      "source": [
        "<a href=\"https://colab.research.google.com/github/mjag7682/CS9-1-NLP-for-Twitter-Data-for-predicting-stocks/blob/master/PreprocessingFinal.ipynb\" target=\"_parent\"><img src=\"https://colab.research.google.com/assets/colab-badge.svg\" alt=\"Open In Colab\"/></a>"
      ]
    },
    {
      "cell_type": "markdown",
      "metadata": {
        "id": "HkqDSyOVDpRD"
      },
      "source": [
        "## Install, Import, Mount statements"
      ]
    },
    {
      "cell_type": "code",
      "metadata": {
        "id": "_gXtdFlzndWh",
        "outputId": "4eef95d3-6530-4ab1-e777-cef79611e6d8",
        "colab": {
          "base_uri": "https://localhost:8080/",
          "height": 1000
        }
      },
      "source": [
        "!pip install contractions\n",
        "!pip install emoji\n",
        "!pip install ekphrasis\n",
        "\n",
        "import sys\n",
        "import math\n",
        "import pandas as pd\n",
        "import re\n",
        "import emoji\n",
        "import nltk\n",
        "import contractions\n",
        "import torch\n",
        "\n",
        "nltk.download('punkt')\n",
        "nltk.download('stopwords')\n",
        "# from nltk.tokenize import word_tokenize\n",
        "from nltk.tokenize import TweetTokenizer \n",
        "from nltk.corpus import stopwords as sw\n",
        "from nltk.tokenize import word_tokenize \n",
        "from nltk.tokenize.treebank import TreebankWordDetokenizer\n",
        "import requests \n",
        "from pprint import pprint\n",
        "import numpy as np\n",
        "from nltk.stem import PorterStemmer\n",
        "\n",
        "import tensorflow as tf\n",
        "import tensorflow_hub as hub\n",
        "from datetime import datetime\n",
        "from tensorflow import keras\n",
        "# import bert\n",
        "# from bert import run_classifier\n",
        "# from bert import optimization\n",
        "# from bert import tokenization\n",
        "import os\n",
        "import pprint\n",
        "import json\n",
        "import random\n",
        "import string\n",
        "import sys\n",
        "from ekphrasis.classes.segmenter import Segmenter\n",
        "import itertools\n"
      ],
      "execution_count": 1,
      "outputs": [
        {
          "output_type": "stream",
          "text": [
            "Collecting contractions\n",
            "  Downloading https://files.pythonhosted.org/packages/00/92/a05b76a692ac08d470ae5c23873cf1c9a041532f1ee065e74b374f218306/contractions-0.0.25-py2.py3-none-any.whl\n",
            "Collecting textsearch\n",
            "  Downloading https://files.pythonhosted.org/packages/42/a8/03407021f9555043de5492a2bd7a35c56cc03c2510092b5ec018cae1bbf1/textsearch-0.0.17-py2.py3-none-any.whl\n",
            "Collecting pyahocorasick\n",
            "\u001b[?25l  Downloading https://files.pythonhosted.org/packages/f4/9f/f0d8e8850e12829eea2e778f1c90e3c53a9a799b7f412082a5d21cd19ae1/pyahocorasick-1.4.0.tar.gz (312kB)\n",
            "\u001b[K     |████████████████████████████████| 317kB 13.0MB/s \n",
            "\u001b[?25hCollecting Unidecode\n",
            "\u001b[?25l  Downloading https://files.pythonhosted.org/packages/d0/42/d9edfed04228bacea2d824904cae367ee9efd05e6cce7ceaaedd0b0ad964/Unidecode-1.1.1-py2.py3-none-any.whl (238kB)\n",
            "\u001b[K     |████████████████████████████████| 245kB 42.0MB/s \n",
            "\u001b[?25hBuilding wheels for collected packages: pyahocorasick\n",
            "  Building wheel for pyahocorasick (setup.py) ... \u001b[?25l\u001b[?25hdone\n",
            "  Created wheel for pyahocorasick: filename=pyahocorasick-1.4.0-cp36-cp36m-linux_x86_64.whl size=81698 sha256=5b9f31992a58143cd2196c4bf8b9c9146f9f059c397e2567cd79ab13e29dcbf2\n",
            "  Stored in directory: /root/.cache/pip/wheels/0a/90/61/87a55f5b459792fbb2b7ba6b31721b06ff5cf6bde541b40994\n",
            "Successfully built pyahocorasick\n",
            "Installing collected packages: pyahocorasick, Unidecode, textsearch, contractions\n",
            "Successfully installed Unidecode-1.1.1 contractions-0.0.25 pyahocorasick-1.4.0 textsearch-0.0.17\n",
            "Collecting emoji\n",
            "\u001b[?25l  Downloading https://files.pythonhosted.org/packages/ff/1c/1f1457fe52d0b30cbeebfd578483cedb3e3619108d2d5a21380dfecf8ffd/emoji-0.6.0.tar.gz (51kB)\n",
            "\u001b[K     |████████████████████████████████| 51kB 4.7MB/s \n",
            "\u001b[?25hBuilding wheels for collected packages: emoji\n",
            "  Building wheel for emoji (setup.py) ... \u001b[?25l\u001b[?25hdone\n",
            "  Created wheel for emoji: filename=emoji-0.6.0-cp36-none-any.whl size=49716 sha256=2dcc4fd17dc129eebe5e44402a5f00fdfd0e75e52f7009c3765ed6597b6f3d24\n",
            "  Stored in directory: /root/.cache/pip/wheels/46/2c/8b/9dcf5216ca68e14e0320e283692dce8ae321cdc01e73e17796\n",
            "Successfully built emoji\n",
            "Installing collected packages: emoji\n",
            "Successfully installed emoji-0.6.0\n",
            "Collecting ekphrasis\n",
            "\u001b[?25l  Downloading https://files.pythonhosted.org/packages/92/e6/37c59d65e78c3a2aaf662df58faca7250eb6b36c559b912a39a7ca204cfb/ekphrasis-0.5.1.tar.gz (80kB)\n",
            "\u001b[K     |████████████████████████████████| 81kB 6.5MB/s \n",
            "\u001b[?25hRequirement already satisfied: termcolor in /usr/local/lib/python3.6/dist-packages (from ekphrasis) (1.1.0)\n",
            "Requirement already satisfied: tqdm in /usr/local/lib/python3.6/dist-packages (from ekphrasis) (4.41.1)\n",
            "Collecting colorama\n",
            "  Downloading https://files.pythonhosted.org/packages/44/98/5b86278fbbf250d239ae0ecb724f8572af1c91f4a11edf4d36a206189440/colorama-0.4.4-py2.py3-none-any.whl\n",
            "Collecting ujson\n",
            "\u001b[?25l  Downloading https://files.pythonhosted.org/packages/f1/84/e039c6ffc6603f2dfe966972d345d4f650a4ffd74b18c852ece645de12ac/ujson-4.0.1-cp36-cp36m-manylinux1_x86_64.whl (179kB)\n",
            "\u001b[K     |████████████████████████████████| 184kB 18.5MB/s \n",
            "\u001b[?25hRequirement already satisfied: matplotlib in /usr/local/lib/python3.6/dist-packages (from ekphrasis) (3.2.2)\n",
            "Requirement already satisfied: nltk in /usr/local/lib/python3.6/dist-packages (from ekphrasis) (3.2.5)\n",
            "Collecting ftfy\n",
            "\u001b[?25l  Downloading https://files.pythonhosted.org/packages/ff/e2/3b51c53dffb1e52d9210ebc01f1fb9f2f6eba9b3201fa971fd3946643c71/ftfy-5.8.tar.gz (64kB)\n",
            "\u001b[K     |████████████████████████████████| 71kB 10.3MB/s \n",
            "\u001b[?25hRequirement already satisfied: numpy in /usr/local/lib/python3.6/dist-packages (from ekphrasis) (1.18.5)\n",
            "Requirement already satisfied: python-dateutil>=2.1 in /usr/local/lib/python3.6/dist-packages (from matplotlib->ekphrasis) (2.8.1)\n",
            "Requirement already satisfied: pyparsing!=2.0.4,!=2.1.2,!=2.1.6,>=2.0.1 in /usr/local/lib/python3.6/dist-packages (from matplotlib->ekphrasis) (2.4.7)\n",
            "Requirement already satisfied: kiwisolver>=1.0.1 in /usr/local/lib/python3.6/dist-packages (from matplotlib->ekphrasis) (1.2.0)\n",
            "Requirement already satisfied: cycler>=0.10 in /usr/local/lib/python3.6/dist-packages (from matplotlib->ekphrasis) (0.10.0)\n",
            "Requirement already satisfied: six in /usr/local/lib/python3.6/dist-packages (from nltk->ekphrasis) (1.15.0)\n",
            "Requirement already satisfied: wcwidth in /usr/local/lib/python3.6/dist-packages (from ftfy->ekphrasis) (0.2.5)\n",
            "Building wheels for collected packages: ekphrasis, ftfy\n",
            "  Building wheel for ekphrasis (setup.py) ... \u001b[?25l\u001b[?25hdone\n",
            "  Created wheel for ekphrasis: filename=ekphrasis-0.5.1-cp36-none-any.whl size=82844 sha256=fbde4943ba562ff50d306a66827bf8ea0013b6b153eeb5442c5dc5c6508f4e9c\n",
            "  Stored in directory: /root/.cache/pip/wheels/2f/c5/9b/c9b60f535a2cf9fdbc92d84c4801a010c35a9cd348011ed2a1\n",
            "  Building wheel for ftfy (setup.py) ... \u001b[?25l\u001b[?25hdone\n",
            "  Created wheel for ftfy: filename=ftfy-5.8-cp36-none-any.whl size=45612 sha256=1b281ae0046213239ab5a904f64063ec25e883354a5142e72f17da880d2d47c0\n",
            "  Stored in directory: /root/.cache/pip/wheels/ba/c0/ef/f28c4da5ac84a4e06ac256ca9182fc34fa57fefffdbc68425b\n",
            "Successfully built ekphrasis ftfy\n",
            "Installing collected packages: colorama, ujson, ftfy, ekphrasis\n",
            "Successfully installed colorama-0.4.4 ekphrasis-0.5.1 ftfy-5.8 ujson-4.0.1\n",
            "[nltk_data] Downloading package punkt to /root/nltk_data...\n",
            "[nltk_data]   Unzipping tokenizers/punkt.zip.\n",
            "[nltk_data] Downloading package stopwords to /root/nltk_data...\n",
            "[nltk_data]   Unzipping corpora/stopwords.zip.\n"
          ],
          "name": "stdout"
        }
      ]
    },
    {
      "cell_type": "code",
      "metadata": {
        "id": "vFOsh5pJq2QZ",
        "outputId": "bf03225b-0a06-4198-f0c1-54a36f77b397",
        "colab": {
          "base_uri": "https://localhost:8080/",
          "height": 34
        }
      },
      "source": [
        "from google.colab import drive\n",
        "drive.mount('/content/drive')"
      ],
      "execution_count": 2,
      "outputs": [
        {
          "output_type": "stream",
          "text": [
            "Mounted at /content/drive\n"
          ],
          "name": "stdout"
        }
      ]
    },
    {
      "cell_type": "markdown",
      "metadata": {
        "id": "T1O0ewkADyRM"
      },
      "source": [
        "## Load file"
      ]
    },
    {
      "cell_type": "code",
      "metadata": {
        "id": "BVXGLwXaq5I5",
        "outputId": "b23b1b2e-696d-4af2-98dd-5e2201e13cd5",
        "colab": {
          "base_uri": "https://localhost:8080/",
          "height": 623
        }
      },
      "source": [
        "df_comb = pd.read_csv('/content/drive/My Drive/Colab Notebooks/Capstone/Labelled (Binary - same day open close)/labelled_DIA.csv')\n",
        "combine_ds = df_comb.sample(frac=1)\n",
        "combine_ds"
      ],
      "execution_count": 3,
      "outputs": [
        {
          "output_type": "execute_result",
          "data": {
            "text/html": [
              "<div>\n",
              "<style scoped>\n",
              "    .dataframe tbody tr th:only-of-type {\n",
              "        vertical-align: middle;\n",
              "    }\n",
              "\n",
              "    .dataframe tbody tr th {\n",
              "        vertical-align: top;\n",
              "    }\n",
              "\n",
              "    .dataframe thead th {\n",
              "        text-align: right;\n",
              "    }\n",
              "</style>\n",
              "<table border=\"1\" class=\"dataframe\">\n",
              "  <thead>\n",
              "    <tr style=\"text-align: right;\">\n",
              "      <th></th>\n",
              "      <th>Unnamed: 0</th>\n",
              "      <th>symbol</th>\n",
              "      <th>message</th>\n",
              "      <th>datetime</th>\n",
              "      <th>user</th>\n",
              "      <th>message_id</th>\n",
              "      <th>Date</th>\n",
              "      <th>Time</th>\n",
              "      <th>Day_of_week</th>\n",
              "      <th>polarity</th>\n",
              "    </tr>\n",
              "  </thead>\n",
              "  <tbody>\n",
              "    <tr>\n",
              "      <th>16590</th>\n",
              "      <td>16590</td>\n",
              "      <td>DIA</td>\n",
              "      <td>$DIA BETS on market tomorrow?</td>\n",
              "      <td>2020-04-07 18:12:46</td>\n",
              "      <td>1117334</td>\n",
              "      <td>205129040</td>\n",
              "      <td>2020-04-07</td>\n",
              "      <td>18:12:46</td>\n",
              "      <td>Tuesday</td>\n",
              "      <td>0</td>\n",
              "    </tr>\n",
              "    <tr>\n",
              "      <th>154988</th>\n",
              "      <td>154988</td>\n",
              "      <td>DIA</td>\n",
              "      <td>Municipal bond funds reported an inflow for th...</td>\n",
              "      <td>2014-10-17 12:15:41</td>\n",
              "      <td>237666</td>\n",
              "      <td>28110605</td>\n",
              "      <td>2014-10-17</td>\n",
              "      <td>12:15:41</td>\n",
              "      <td>Friday</td>\n",
              "      <td>1</td>\n",
              "    </tr>\n",
              "    <tr>\n",
              "      <th>174141</th>\n",
              "      <td>174141</td>\n",
              "      <td>DIA</td>\n",
              "      <td>TS TradePlan for YM http://stks.co/hbRm - Frid...</td>\n",
              "      <td>2013-06-28 08:55:34</td>\n",
              "      <td>13803</td>\n",
              "      <td>14345522</td>\n",
              "      <td>2013-06-28</td>\n",
              "      <td>08:55:34</td>\n",
              "      <td>Friday</td>\n",
              "      <td>0</td>\n",
              "    </tr>\n",
              "    <tr>\n",
              "      <th>94680</th>\n",
              "      <td>94680</td>\n",
              "      <td>DIA</td>\n",
              "      <td>$SPX $SPY $QQQ $NDX $IWM $VIX $DIA $DJIA NASDA...</td>\n",
              "      <td>2018-03-14 17:18:12</td>\n",
              "      <td>917666</td>\n",
              "      <td>116238736</td>\n",
              "      <td>2018-03-14</td>\n",
              "      <td>17:18:12</td>\n",
              "      <td>Wednesday</td>\n",
              "      <td>0</td>\n",
              "    </tr>\n",
              "    <tr>\n",
              "      <th>64506</th>\n",
              "      <td>64506</td>\n",
              "      <td>DIA</td>\n",
              "      <td>Although the technical rating is bad, $DIA doe...</td>\n",
              "      <td>2018-12-19 15:39:54</td>\n",
              "      <td>47688</td>\n",
              "      <td>148382242</td>\n",
              "      <td>2018-12-19</td>\n",
              "      <td>15:39:54</td>\n",
              "      <td>Wednesday</td>\n",
              "      <td>0</td>\n",
              "    </tr>\n",
              "    <tr>\n",
              "      <th>...</th>\n",
              "      <td>...</td>\n",
              "      <td>...</td>\n",
              "      <td>...</td>\n",
              "      <td>...</td>\n",
              "      <td>...</td>\n",
              "      <td>...</td>\n",
              "      <td>...</td>\n",
              "      <td>...</td>\n",
              "      <td>...</td>\n",
              "      <td>...</td>\n",
              "    </tr>\n",
              "    <tr>\n",
              "      <th>166025</th>\n",
              "      <td>166025</td>\n",
              "      <td>DIA</td>\n",
              "      <td>$DIA overly bearish sentiment tells me we coul...</td>\n",
              "      <td>2014-02-03 20:08:06</td>\n",
              "      <td>170632</td>\n",
              "      <td>19676228</td>\n",
              "      <td>2014-02-03</td>\n",
              "      <td>20:08:06</td>\n",
              "      <td>Monday</td>\n",
              "      <td>0</td>\n",
              "    </tr>\n",
              "    <tr>\n",
              "      <th>182008</th>\n",
              "      <td>182008</td>\n",
              "      <td>DIA</td>\n",
              "      <td>If $SPY $DIA $QQQ continue to fall. Look for b...</td>\n",
              "      <td>2012-09-26 15:08:40</td>\n",
              "      <td>161307</td>\n",
              "      <td>9693821</td>\n",
              "      <td>2012-09-26</td>\n",
              "      <td>15:08:40</td>\n",
              "      <td>Wednesday</td>\n",
              "      <td>0</td>\n",
              "    </tr>\n",
              "    <tr>\n",
              "      <th>36692</th>\n",
              "      <td>36692</td>\n",
              "      <td>DIA</td>\n",
              "      <td>$SPY $DIA  green  \\n \\nSo looks like the rever...</td>\n",
              "      <td>2019-11-21 19:36:44</td>\n",
              "      <td>349810</td>\n",
              "      <td>184600235</td>\n",
              "      <td>2019-11-21</td>\n",
              "      <td>19:36:44</td>\n",
              "      <td>Thursday</td>\n",
              "      <td>0</td>\n",
              "    </tr>\n",
              "    <tr>\n",
              "      <th>144330</th>\n",
              "      <td>144330</td>\n",
              "      <td>DIA</td>\n",
              "      <td>&amp;quot;@ep_capital: $INTC -0.70% the lone decli...</td>\n",
              "      <td>2015-07-09 14:02:15</td>\n",
              "      <td>8115</td>\n",
              "      <td>39428873</td>\n",
              "      <td>2015-07-09</td>\n",
              "      <td>14:02:15</td>\n",
              "      <td>Thursday</td>\n",
              "      <td>0</td>\n",
              "    </tr>\n",
              "    <tr>\n",
              "      <th>49227</th>\n",
              "      <td>49227</td>\n",
              "      <td>DIA</td>\n",
              "      <td>$spy #spy $qqq #qqq $dia #dia worth attempting...</td>\n",
              "      <td>2019-05-13 15:08:04</td>\n",
              "      <td>1874654</td>\n",
              "      <td>164013252</td>\n",
              "      <td>2019-05-13</td>\n",
              "      <td>15:08:04</td>\n",
              "      <td>Monday</td>\n",
              "      <td>0</td>\n",
              "    </tr>\n",
              "  </tbody>\n",
              "</table>\n",
              "<p>189685 rows × 10 columns</p>\n",
              "</div>"
            ],
            "text/plain": [
              "        Unnamed: 0 symbol  ... Day_of_week polarity\n",
              "16590        16590    DIA  ...     Tuesday        0\n",
              "154988      154988    DIA  ...      Friday        1\n",
              "174141      174141    DIA  ...      Friday        0\n",
              "94680        94680    DIA  ...   Wednesday        0\n",
              "64506        64506    DIA  ...   Wednesday        0\n",
              "...            ...    ...  ...         ...      ...\n",
              "166025      166025    DIA  ...      Monday        0\n",
              "182008      182008    DIA  ...   Wednesday        0\n",
              "36692        36692    DIA  ...    Thursday        0\n",
              "144330      144330    DIA  ...    Thursday        0\n",
              "49227        49227    DIA  ...      Monday        0\n",
              "\n",
              "[189685 rows x 10 columns]"
            ]
          },
          "metadata": {
            "tags": []
          },
          "execution_count": 3
        }
      ]
    },
    {
      "cell_type": "markdown",
      "metadata": {
        "id": "B8G7WU8SD08e"
      },
      "source": [
        "## Preprocess data"
      ]
    },
    {
      "cell_type": "code",
      "metadata": {
        "id": "i8TteZhWQ0Ba"
      },
      "source": [
        "# fill nan values in file with '0'\n",
        "combine_ds.isna().values.any()\n",
        "combine_ds['message'] = combine_ds['message'].fillna('0')"
      ],
      "execution_count": 8,
      "outputs": []
    },
    {
      "cell_type": "code",
      "metadata": {
        "id": "z70r1eYrnoB_",
        "outputId": "62b8b512-a7fa-411d-de03-cebd62463cb4",
        "colab": {
          "base_uri": "https://localhost:8080/",
          "height": 54
        }
      },
      "source": [
        "combine_ds['message'] = combine_ds['message'].str.lower()\n",
        "message = combine_ds['message'].tolist()\n",
        "\n",
        "print(message[:10])"
      ],
      "execution_count": 9,
      "outputs": [
        {
          "output_type": "stream",
          "text": [
            "['$dia bets on market tomorrow?', 'municipal bond funds reported an inflow for the 23rd time in the past 24wks (+$444mn). $dia $qqq $spy $mub $hyd $tlt $tbt', 'ts tradeplan for ym http://stks.co/hbrm - friday june 28 2013 $es_f $ym_f $6e_f $cl_f $gc_f sent to members $dia $indu #futures #trading', '$spx $spy $qqq $ndx $iwm $vix $dia $djia nasdaq market internals summary', 'although the technical rating is bad, $dia does present a nice setup opportunity. https://www.chartmill.com/analyze.php?utm_source=stocktwits&amp;utm_medium=ta&amp;utm_content=setup&amp;utm_campaign=social_tracking#/dia?key=810cb939-dc70-485b-b7ec-a9a1fe911f70', 'new hod on $tick on that move over 15459 as well $dia $indu', '$iwm $spy $qqq $dia $spx markets makers move prices flat into the sun. vol. event. as close to middle as possible.', '$dia  they will not rollback tariffs . c&#39;mon look at  the news man! the asian markets usa everyone this will be no deal!!!!', '$spy $dia panic selling in overall markets however not all stocks selling off here and continue to focus on stronger positions #livetradepro', 'bearish persistence on the aaii survey  http://stks.co/dmvy via @ppearlman $spy $dia']\n"
          ],
          "name": "stdout"
        }
      ]
    },
    {
      "cell_type": "code",
      "metadata": {
        "id": "C65MA9lJnwEv"
      },
      "source": [
        "def remove_stopwords(msg):\n",
        "    filtered_sentence = [w for w in msg_tokens if not w in stop_words]\n",
        "    return filtered_sentence\n",
        "\n",
        "def remove_punctuation_re(x):\n",
        "    x = ' '.join(re.sub(\"https?://\\S+\",\"\",x).split())     #Removing URLs\n",
        "\n",
        "    x = ' '.join(re.sub(\"^@\\S+|\\s@\\S+\",\"\",x).split())     #Removing Mentions\n",
        "\n",
        "    # x = ' '.join(re.sub(r'[^$\\w\\s]',\" \",x).split())\n",
        "    x = ' '.join(re.sub(r'[^\\w\\s]',\" \",x).split())        #Removes Hashtags\n",
        "\n",
        "    x = ' '.join(re.sub(r'_',\" \",x).split())              #Removing _ from emojis text\n",
        "\n",
        "    return x\n",
        "\n",
        "# replace repeating letter\n",
        "def rpt_replace(match):\n",
        "    # print(match.group(1))\n",
        "    return match.group(1)+match.group(1)\n",
        "\n",
        "# substitute original word with replaced word, if any\n",
        "def processRepeatings(data):\n",
        "    re_t= re.sub(message_rpt, rpt_replace, data )\n",
        "    # print(re_t)\n",
        "    return re_t"
      ],
      "execution_count": 10,
      "outputs": []
    },
    {
      "cell_type": "code",
      "metadata": {
        "id": "gfz_YC4eQ6nk",
        "outputId": "3faa5c5c-5dd2-4a21-b2c7-664c044b4887",
        "colab": {
          "base_uri": "https://localhost:8080/",
          "height": 51
        }
      },
      "source": [
        "print(sys.getrecursionlimit())\n",
        "sys.setrecursionlimit(1800)\n",
        "print(sys.getrecursionlimit())"
      ],
      "execution_count": 11,
      "outputs": [
        {
          "output_type": "stream",
          "text": [
            "1000\n",
            "1800\n"
          ],
          "name": "stdout"
        }
      ]
    },
    {
      "cell_type": "code",
      "metadata": {
        "id": "_3YWRwzLBGs1",
        "outputId": "3127d551-45f8-4435-f173-92abbd01342d",
        "colab": {
          "base_uri": "https://localhost:8080/",
          "height": 170
        }
      },
      "source": [
        "stop_words = sw.words(\"english\")\n",
        "tweet_tokenizer = TweetTokenizer()\n",
        "detokenizer = TreebankWordDetokenizer()\n",
        "# message_p = []\n",
        "\n",
        "# for repeating characters in words\n",
        "message_rpt = re.compile(r\"(.)\\1{2,}\", re.IGNORECASE)\n",
        "\n",
        "# segmenter using the word statistics from Twitter\n",
        "seg_tw = Segmenter(corpus=\"twitter\")\n"
      ],
      "execution_count": 12,
      "outputs": [
        {
          "output_type": "stream",
          "text": [
            "Word statistics files not found!\n",
            "Downloading... done!\n",
            "Unpacking... done!\n",
            "Reading twitter - 1grams ...\n",
            "generating cache file for faster loading...\n",
            "reading ngrams /root/.ekphrasis/stats/twitter/counts_1grams.txt\n",
            "Reading twitter - 2grams ...\n",
            "generating cache file for faster loading...\n",
            "reading ngrams /root/.ekphrasis/stats/twitter/counts_2grams.txt\n"
          ],
          "name": "stdout"
        }
      ]
    },
    {
      "cell_type": "code",
      "metadata": {
        "id": "4LRFAxgcn_fi"
      },
      "source": [
        "message_p = []\n",
        "for msg in message:\n",
        "\n",
        "    if msg == '0': #nan replaced by '0'\n",
        "      message_p.append('-1')\n",
        "\n",
        "    else:\n",
        "      # remove emojis\n",
        "      msg = emoji.demojize(msg)\n",
        "\n",
        "      # fix contractions\n",
        "      msg = contractions.fix(msg)\n",
        "\n",
        "      # remove punctuations\n",
        "      msg = remove_punctuation_re(msg) \n",
        "\n",
        "      #tokenize\n",
        "      msg_tokens = tweet_tokenizer.tokenize(msg)\n",
        "\n",
        "      #For Hashtags elongated words using Word segmenter\n",
        "      message_seg = []\n",
        "      for w in msg_tokens:\n",
        "        message_seg.append(seg_tw.segment(w))\n",
        "\n",
        "      # remove stopwords\n",
        "      msg = remove_stopwords(message_seg)\n",
        "\n",
        "      if 'rt' in msg:\n",
        "        # remove retweets\n",
        "        message_p.append('-1')\n",
        "      else: \n",
        "        # detokenize\n",
        "        msg = detokenizer.detokenize(msg)\n",
        "\n",
        "        # removing repeating characters like hurrrryyyyyy-- worrks on tokenized list\n",
        "        msg = processRepeatings(msg)\n",
        "\n",
        "        message_p.append(msg)\n"
      ],
      "execution_count": 13,
      "outputs": []
    },
    {
      "cell_type": "code",
      "metadata": {
        "id": "pXWjHAcQoIEh",
        "outputId": "da41adaf-1b9a-46ee-80a0-7bcb935a31c6",
        "colab": {
          "base_uri": "https://localhost:8080/",
          "height": 187
        }
      },
      "source": [
        "message_p[:10]"
      ],
      "execution_count": 14,
      "outputs": [
        {
          "output_type": "execute_result",
          "data": {
            "text/plain": [
              "['dia bets market tomorrow',\n",
              " 'municipal bond funds reported inflow 23rd time past 24wks 44mn dia qq spy mub hyd tlt tbt',\n",
              " 'ts tradeplan ym friday june 28 2013 es f ym f 6e f cl f gc f sent members dia indu futures trading',\n",
              " 'spx spy qq ndx iwm vix dia djia nasdaq market internals summary',\n",
              " 'although technical rating bad dia present nice setup opportunity',\n",
              " 'new hod tick move 15459 well dia indu',\n",
              " 'iwm spy qq dia spx markets makers move prices flat sun vol event close middle possible',\n",
              " 'dia rollback tariffs c 39 mon look news man asian markets usa everyone deal',\n",
              " 'spy dia panic selling overall markets however stocks selling continue focus stronger positions livetradepro',\n",
              " 'bearish persistence aaii survey via spy dia']"
            ]
          },
          "metadata": {
            "tags": []
          },
          "execution_count": 14
        }
      ]
    },
    {
      "cell_type": "code",
      "metadata": {
        "id": "KkSpMpJWAG4u",
        "outputId": "7ac5fba5-e2a0-4599-af4f-8d41f5dcd91f",
        "colab": {
          "base_uri": "https://localhost:8080/",
          "height": 623
        }
      },
      "source": [
        "combine_ds['message'] = message_p\n",
        "combine_ds"
      ],
      "execution_count": 15,
      "outputs": [
        {
          "output_type": "execute_result",
          "data": {
            "text/html": [
              "<div>\n",
              "<style scoped>\n",
              "    .dataframe tbody tr th:only-of-type {\n",
              "        vertical-align: middle;\n",
              "    }\n",
              "\n",
              "    .dataframe tbody tr th {\n",
              "        vertical-align: top;\n",
              "    }\n",
              "\n",
              "    .dataframe thead th {\n",
              "        text-align: right;\n",
              "    }\n",
              "</style>\n",
              "<table border=\"1\" class=\"dataframe\">\n",
              "  <thead>\n",
              "    <tr style=\"text-align: right;\">\n",
              "      <th></th>\n",
              "      <th>Unnamed: 0</th>\n",
              "      <th>symbol</th>\n",
              "      <th>message</th>\n",
              "      <th>datetime</th>\n",
              "      <th>user</th>\n",
              "      <th>message_id</th>\n",
              "      <th>Date</th>\n",
              "      <th>Time</th>\n",
              "      <th>Day_of_week</th>\n",
              "      <th>polarity</th>\n",
              "    </tr>\n",
              "  </thead>\n",
              "  <tbody>\n",
              "    <tr>\n",
              "      <th>16590</th>\n",
              "      <td>16590</td>\n",
              "      <td>DIA</td>\n",
              "      <td>dia bets market tomorrow</td>\n",
              "      <td>2020-04-07 18:12:46</td>\n",
              "      <td>1117334</td>\n",
              "      <td>205129040</td>\n",
              "      <td>2020-04-07</td>\n",
              "      <td>18:12:46</td>\n",
              "      <td>Tuesday</td>\n",
              "      <td>0</td>\n",
              "    </tr>\n",
              "    <tr>\n",
              "      <th>154988</th>\n",
              "      <td>154988</td>\n",
              "      <td>DIA</td>\n",
              "      <td>municipal bond funds reported inflow 23rd time...</td>\n",
              "      <td>2014-10-17 12:15:41</td>\n",
              "      <td>237666</td>\n",
              "      <td>28110605</td>\n",
              "      <td>2014-10-17</td>\n",
              "      <td>12:15:41</td>\n",
              "      <td>Friday</td>\n",
              "      <td>1</td>\n",
              "    </tr>\n",
              "    <tr>\n",
              "      <th>174141</th>\n",
              "      <td>174141</td>\n",
              "      <td>DIA</td>\n",
              "      <td>ts tradeplan ym friday june 28 2013 es f ym f ...</td>\n",
              "      <td>2013-06-28 08:55:34</td>\n",
              "      <td>13803</td>\n",
              "      <td>14345522</td>\n",
              "      <td>2013-06-28</td>\n",
              "      <td>08:55:34</td>\n",
              "      <td>Friday</td>\n",
              "      <td>0</td>\n",
              "    </tr>\n",
              "    <tr>\n",
              "      <th>94680</th>\n",
              "      <td>94680</td>\n",
              "      <td>DIA</td>\n",
              "      <td>spx spy qq ndx iwm vix dia djia nasdaq market ...</td>\n",
              "      <td>2018-03-14 17:18:12</td>\n",
              "      <td>917666</td>\n",
              "      <td>116238736</td>\n",
              "      <td>2018-03-14</td>\n",
              "      <td>17:18:12</td>\n",
              "      <td>Wednesday</td>\n",
              "      <td>0</td>\n",
              "    </tr>\n",
              "    <tr>\n",
              "      <th>64506</th>\n",
              "      <td>64506</td>\n",
              "      <td>DIA</td>\n",
              "      <td>although technical rating bad dia present nice...</td>\n",
              "      <td>2018-12-19 15:39:54</td>\n",
              "      <td>47688</td>\n",
              "      <td>148382242</td>\n",
              "      <td>2018-12-19</td>\n",
              "      <td>15:39:54</td>\n",
              "      <td>Wednesday</td>\n",
              "      <td>0</td>\n",
              "    </tr>\n",
              "    <tr>\n",
              "      <th>...</th>\n",
              "      <td>...</td>\n",
              "      <td>...</td>\n",
              "      <td>...</td>\n",
              "      <td>...</td>\n",
              "      <td>...</td>\n",
              "      <td>...</td>\n",
              "      <td>...</td>\n",
              "      <td>...</td>\n",
              "      <td>...</td>\n",
              "      <td>...</td>\n",
              "    </tr>\n",
              "    <tr>\n",
              "      <th>166025</th>\n",
              "      <td>166025</td>\n",
              "      <td>DIA</td>\n",
              "      <td>dia overly bearish sentiment tells could see b...</td>\n",
              "      <td>2014-02-03 20:08:06</td>\n",
              "      <td>170632</td>\n",
              "      <td>19676228</td>\n",
              "      <td>2014-02-03</td>\n",
              "      <td>20:08:06</td>\n",
              "      <td>Monday</td>\n",
              "      <td>0</td>\n",
              "    </tr>\n",
              "    <tr>\n",
              "      <th>182008</th>\n",
              "      <td>182008</td>\n",
              "      <td>DIA</td>\n",
              "      <td>spy dia qq continue fall look biotechs like am...</td>\n",
              "      <td>2012-09-26 15:08:40</td>\n",
              "      <td>161307</td>\n",
              "      <td>9693821</td>\n",
              "      <td>2012-09-26</td>\n",
              "      <td>15:08:40</td>\n",
              "      <td>Wednesday</td>\n",
              "      <td>0</td>\n",
              "    </tr>\n",
              "    <tr>\n",
              "      <th>36692</th>\n",
              "      <td>36692</td>\n",
              "      <td>DIA</td>\n",
              "      <td>spy dia green looks like reversal day release ...</td>\n",
              "      <td>2019-11-21 19:36:44</td>\n",
              "      <td>349810</td>\n",
              "      <td>184600235</td>\n",
              "      <td>2019-11-21</td>\n",
              "      <td>19:36:44</td>\n",
              "      <td>Thursday</td>\n",
              "      <td>0</td>\n",
              "    </tr>\n",
              "    <tr>\n",
              "      <th>144330</th>\n",
              "      <td>144330</td>\n",
              "      <td>DIA</td>\n",
              "      <td>quot ep capital intc 0 70 lone decliner dji di...</td>\n",
              "      <td>2015-07-09 14:02:15</td>\n",
              "      <td>8115</td>\n",
              "      <td>39428873</td>\n",
              "      <td>2015-07-09</td>\n",
              "      <td>14:02:15</td>\n",
              "      <td>Thursday</td>\n",
              "      <td>0</td>\n",
              "    </tr>\n",
              "    <tr>\n",
              "      <th>49227</th>\n",
              "      <td>49227</td>\n",
              "      <td>DIA</td>\n",
              "      <td>spy spy qq qq dia dia worth attempting day tra...</td>\n",
              "      <td>2019-05-13 15:08:04</td>\n",
              "      <td>1874654</td>\n",
              "      <td>164013252</td>\n",
              "      <td>2019-05-13</td>\n",
              "      <td>15:08:04</td>\n",
              "      <td>Monday</td>\n",
              "      <td>0</td>\n",
              "    </tr>\n",
              "  </tbody>\n",
              "</table>\n",
              "<p>189685 rows × 10 columns</p>\n",
              "</div>"
            ],
            "text/plain": [
              "        Unnamed: 0 symbol  ... Day_of_week polarity\n",
              "16590        16590    DIA  ...     Tuesday        0\n",
              "154988      154988    DIA  ...      Friday        1\n",
              "174141      174141    DIA  ...      Friday        0\n",
              "94680        94680    DIA  ...   Wednesday        0\n",
              "64506        64506    DIA  ...   Wednesday        0\n",
              "...            ...    ...  ...         ...      ...\n",
              "166025      166025    DIA  ...      Monday        0\n",
              "182008      182008    DIA  ...   Wednesday        0\n",
              "36692        36692    DIA  ...    Thursday        0\n",
              "144330      144330    DIA  ...    Thursday        0\n",
              "49227        49227    DIA  ...      Monday        0\n",
              "\n",
              "[189685 rows x 10 columns]"
            ]
          },
          "metadata": {
            "tags": []
          },
          "execution_count": 15
        }
      ]
    },
    {
      "cell_type": "code",
      "metadata": {
        "id": "nTSMxP_VRRQu",
        "outputId": "cf9d2165-28df-45d8-a04e-6b5122e98f83",
        "colab": {
          "base_uri": "https://localhost:8080/",
          "height": 68
        }
      },
      "source": [
        "combine_ds['polarity'].value_counts()"
      ],
      "execution_count": 16,
      "outputs": [
        {
          "output_type": "execute_result",
          "data": {
            "text/plain": [
              "1    99652\n",
              "0    90033\n",
              "Name: polarity, dtype: int64"
            ]
          },
          "metadata": {
            "tags": []
          },
          "execution_count": 16
        }
      ]
    },
    {
      "cell_type": "code",
      "metadata": {
        "id": "3DraQK_uDcBU",
        "outputId": "e80c6e22-7af4-4050-cbcb-c7c7f5393a90",
        "colab": {
          "base_uri": "https://localhost:8080/",
          "height": 623
        }
      },
      "source": [
        "# Drop Retweets\n",
        "combine_ds.drop(combine_ds[combine_ds['message'] == '-1'].index, inplace = True) \n",
        "combine_ds"
      ],
      "execution_count": 17,
      "outputs": [
        {
          "output_type": "execute_result",
          "data": {
            "text/html": [
              "<div>\n",
              "<style scoped>\n",
              "    .dataframe tbody tr th:only-of-type {\n",
              "        vertical-align: middle;\n",
              "    }\n",
              "\n",
              "    .dataframe tbody tr th {\n",
              "        vertical-align: top;\n",
              "    }\n",
              "\n",
              "    .dataframe thead th {\n",
              "        text-align: right;\n",
              "    }\n",
              "</style>\n",
              "<table border=\"1\" class=\"dataframe\">\n",
              "  <thead>\n",
              "    <tr style=\"text-align: right;\">\n",
              "      <th></th>\n",
              "      <th>Unnamed: 0</th>\n",
              "      <th>symbol</th>\n",
              "      <th>message</th>\n",
              "      <th>datetime</th>\n",
              "      <th>user</th>\n",
              "      <th>message_id</th>\n",
              "      <th>Date</th>\n",
              "      <th>Time</th>\n",
              "      <th>Day_of_week</th>\n",
              "      <th>polarity</th>\n",
              "    </tr>\n",
              "  </thead>\n",
              "  <tbody>\n",
              "    <tr>\n",
              "      <th>16590</th>\n",
              "      <td>16590</td>\n",
              "      <td>DIA</td>\n",
              "      <td>dia bets market tomorrow</td>\n",
              "      <td>2020-04-07 18:12:46</td>\n",
              "      <td>1117334</td>\n",
              "      <td>205129040</td>\n",
              "      <td>2020-04-07</td>\n",
              "      <td>18:12:46</td>\n",
              "      <td>Tuesday</td>\n",
              "      <td>0</td>\n",
              "    </tr>\n",
              "    <tr>\n",
              "      <th>154988</th>\n",
              "      <td>154988</td>\n",
              "      <td>DIA</td>\n",
              "      <td>municipal bond funds reported inflow 23rd time...</td>\n",
              "      <td>2014-10-17 12:15:41</td>\n",
              "      <td>237666</td>\n",
              "      <td>28110605</td>\n",
              "      <td>2014-10-17</td>\n",
              "      <td>12:15:41</td>\n",
              "      <td>Friday</td>\n",
              "      <td>1</td>\n",
              "    </tr>\n",
              "    <tr>\n",
              "      <th>174141</th>\n",
              "      <td>174141</td>\n",
              "      <td>DIA</td>\n",
              "      <td>ts tradeplan ym friday june 28 2013 es f ym f ...</td>\n",
              "      <td>2013-06-28 08:55:34</td>\n",
              "      <td>13803</td>\n",
              "      <td>14345522</td>\n",
              "      <td>2013-06-28</td>\n",
              "      <td>08:55:34</td>\n",
              "      <td>Friday</td>\n",
              "      <td>0</td>\n",
              "    </tr>\n",
              "    <tr>\n",
              "      <th>94680</th>\n",
              "      <td>94680</td>\n",
              "      <td>DIA</td>\n",
              "      <td>spx spy qq ndx iwm vix dia djia nasdaq market ...</td>\n",
              "      <td>2018-03-14 17:18:12</td>\n",
              "      <td>917666</td>\n",
              "      <td>116238736</td>\n",
              "      <td>2018-03-14</td>\n",
              "      <td>17:18:12</td>\n",
              "      <td>Wednesday</td>\n",
              "      <td>0</td>\n",
              "    </tr>\n",
              "    <tr>\n",
              "      <th>64506</th>\n",
              "      <td>64506</td>\n",
              "      <td>DIA</td>\n",
              "      <td>although technical rating bad dia present nice...</td>\n",
              "      <td>2018-12-19 15:39:54</td>\n",
              "      <td>47688</td>\n",
              "      <td>148382242</td>\n",
              "      <td>2018-12-19</td>\n",
              "      <td>15:39:54</td>\n",
              "      <td>Wednesday</td>\n",
              "      <td>0</td>\n",
              "    </tr>\n",
              "    <tr>\n",
              "      <th>...</th>\n",
              "      <td>...</td>\n",
              "      <td>...</td>\n",
              "      <td>...</td>\n",
              "      <td>...</td>\n",
              "      <td>...</td>\n",
              "      <td>...</td>\n",
              "      <td>...</td>\n",
              "      <td>...</td>\n",
              "      <td>...</td>\n",
              "      <td>...</td>\n",
              "    </tr>\n",
              "    <tr>\n",
              "      <th>166025</th>\n",
              "      <td>166025</td>\n",
              "      <td>DIA</td>\n",
              "      <td>dia overly bearish sentiment tells could see b...</td>\n",
              "      <td>2014-02-03 20:08:06</td>\n",
              "      <td>170632</td>\n",
              "      <td>19676228</td>\n",
              "      <td>2014-02-03</td>\n",
              "      <td>20:08:06</td>\n",
              "      <td>Monday</td>\n",
              "      <td>0</td>\n",
              "    </tr>\n",
              "    <tr>\n",
              "      <th>182008</th>\n",
              "      <td>182008</td>\n",
              "      <td>DIA</td>\n",
              "      <td>spy dia qq continue fall look biotechs like am...</td>\n",
              "      <td>2012-09-26 15:08:40</td>\n",
              "      <td>161307</td>\n",
              "      <td>9693821</td>\n",
              "      <td>2012-09-26</td>\n",
              "      <td>15:08:40</td>\n",
              "      <td>Wednesday</td>\n",
              "      <td>0</td>\n",
              "    </tr>\n",
              "    <tr>\n",
              "      <th>36692</th>\n",
              "      <td>36692</td>\n",
              "      <td>DIA</td>\n",
              "      <td>spy dia green looks like reversal day release ...</td>\n",
              "      <td>2019-11-21 19:36:44</td>\n",
              "      <td>349810</td>\n",
              "      <td>184600235</td>\n",
              "      <td>2019-11-21</td>\n",
              "      <td>19:36:44</td>\n",
              "      <td>Thursday</td>\n",
              "      <td>0</td>\n",
              "    </tr>\n",
              "    <tr>\n",
              "      <th>144330</th>\n",
              "      <td>144330</td>\n",
              "      <td>DIA</td>\n",
              "      <td>quot ep capital intc 0 70 lone decliner dji di...</td>\n",
              "      <td>2015-07-09 14:02:15</td>\n",
              "      <td>8115</td>\n",
              "      <td>39428873</td>\n",
              "      <td>2015-07-09</td>\n",
              "      <td>14:02:15</td>\n",
              "      <td>Thursday</td>\n",
              "      <td>0</td>\n",
              "    </tr>\n",
              "    <tr>\n",
              "      <th>49227</th>\n",
              "      <td>49227</td>\n",
              "      <td>DIA</td>\n",
              "      <td>spy spy qq qq dia dia worth attempting day tra...</td>\n",
              "      <td>2019-05-13 15:08:04</td>\n",
              "      <td>1874654</td>\n",
              "      <td>164013252</td>\n",
              "      <td>2019-05-13</td>\n",
              "      <td>15:08:04</td>\n",
              "      <td>Monday</td>\n",
              "      <td>0</td>\n",
              "    </tr>\n",
              "  </tbody>\n",
              "</table>\n",
              "<p>188599 rows × 10 columns</p>\n",
              "</div>"
            ],
            "text/plain": [
              "        Unnamed: 0 symbol  ... Day_of_week polarity\n",
              "16590        16590    DIA  ...     Tuesday        0\n",
              "154988      154988    DIA  ...      Friday        1\n",
              "174141      174141    DIA  ...      Friday        0\n",
              "94680        94680    DIA  ...   Wednesday        0\n",
              "64506        64506    DIA  ...   Wednesday        0\n",
              "...            ...    ...  ...         ...      ...\n",
              "166025      166025    DIA  ...      Monday        0\n",
              "182008      182008    DIA  ...   Wednesday        0\n",
              "36692        36692    DIA  ...    Thursday        0\n",
              "144330      144330    DIA  ...    Thursday        0\n",
              "49227        49227    DIA  ...      Monday        0\n",
              "\n",
              "[188599 rows x 10 columns]"
            ]
          },
          "metadata": {
            "tags": []
          },
          "execution_count": 17
        }
      ]
    },
    {
      "cell_type": "code",
      "metadata": {
        "id": "0L1EiPK6RTOJ",
        "outputId": "143de1eb-8beb-470f-8ca9-13b16d3df5f1",
        "colab": {
          "base_uri": "https://localhost:8080/",
          "height": 68
        }
      },
      "source": [
        "combine_ds['polarity'].value_counts()"
      ],
      "execution_count": 18,
      "outputs": [
        {
          "output_type": "execute_result",
          "data": {
            "text/plain": [
              "1    99069\n",
              "0    89530\n",
              "Name: polarity, dtype: int64"
            ]
          },
          "metadata": {
            "tags": []
          },
          "execution_count": 18
        }
      ]
    },
    {
      "cell_type": "code",
      "metadata": {
        "id": "ExuSBMADRVWx"
      },
      "source": [
        "# Uncomment for FB\n",
        "# FB_IPO = '2012-05-21'\n",
        "# combine_ds.drop(combine_ds[combine_ds['Date'] < '2012-05-21'].index, inplace = True) \n",
        "# combine_ds"
      ],
      "execution_count": null,
      "outputs": []
    },
    {
      "cell_type": "code",
      "metadata": {
        "id": "SzbU2bZgRWfg"
      },
      "source": [
        "# Uncomment for TSLA\n",
        "# TSLA_IPO = '2010-06-30'\n",
        "# combine_ds.drop(combine_ds[combine_ds['Date'] < TSLA_IPO].index, inplace = True) \n",
        "# combine_ds"
      ],
      "execution_count": null,
      "outputs": []
    },
    {
      "cell_type": "code",
      "metadata": {
        "id": "hMWwq5dKRX2X"
      },
      "source": [
        "# combine_ds['polarity'].value_counts()"
      ],
      "execution_count": null,
      "outputs": []
    },
    {
      "cell_type": "code",
      "metadata": {
        "id": "uOx_0zmyRZbT"
      },
      "source": [
        "combine_ds.to_csv('prep_WMT1.csv')\n",
        "!cp prep_WMT1.csv \"/content/drive/My Drive\""
      ],
      "execution_count": 19,
      "outputs": []
    }
  ]
}