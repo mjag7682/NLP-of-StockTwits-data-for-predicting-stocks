{
  "nbformat": 4,
  "nbformat_minor": 0,
  "metadata": {
    "colab": {
      "name": "PreprocessingFinal.ipynb",
      "provenance": [],
      "include_colab_link": true
    },
    "kernelspec": {
      "name": "python3",
      "display_name": "Python 3"
    }
  },
  "cells": [
    {
      "cell_type": "markdown",
      "metadata": {
        "id": "view-in-github",
        "colab_type": "text"
      },
      "source": [
        "<a href=\"https://colab.research.google.com/github/mjag7682/CS9-1-NLP-for-Twitter-Data-for-predicting-stocks/blob/master/PreprocessingFinal.ipynb\" target=\"_parent\"><img src=\"https://colab.research.google.com/assets/colab-badge.svg\" alt=\"Open In Colab\"/></a>"
      ]
    },
    {
      "cell_type": "markdown",
      "metadata": {
        "id": "HkqDSyOVDpRD"
      },
      "source": [
        "## Install, Import, Mount statements"
      ]
    },
    {
      "cell_type": "code",
      "metadata": {
        "id": "_gXtdFlzndWh",
        "outputId": "534bcbcb-1ea4-4c2c-e8db-8bd6b96d8cc1",
        "colab": {
          "base_uri": "https://localhost:8080/",
          "height": 445
        }
      },
      "source": [
        "!pip install contractions\n",
        "!pip install emoji\n",
        "!pip install ekphrasis\n",
        "\n",
        "import pandas as pd\n",
        "import re\n",
        "import emoji\n",
        "import nltk\n",
        "import contractions\n",
        "import torch\n",
        "\n",
        "nltk.download('punkt')\n",
        "nltk.download('stopwords')\n",
        "# from nltk.tokenize import word_tokenize\n",
        "from nltk.tokenize import TweetTokenizer \n",
        "from nltk.corpus import stopwords as sw\n",
        "from nltk.tokenize import word_tokenize \n",
        "from nltk.tokenize.treebank import TreebankWordDetokenizer\n",
        "import requests \n",
        "from pprint import pprint\n",
        "import numpy as np\n",
        "from nltk.stem import PorterStemmer\n",
        "\n",
        "import tensorflow as tf\n",
        "import tensorflow_hub as hub\n",
        "from datetime import datetime\n",
        "from tensorflow import keras\n",
        "# import bert\n",
        "# from bert import run_classifier\n",
        "# from bert import optimization\n",
        "# from bert import tokenization\n",
        "import os\n",
        "import pprint\n",
        "import json\n",
        "import random\n",
        "import string\n",
        "import sys\n",
        "from ekphrasis.classes.segmenter import Segmenter\n",
        "import itertools\n"
      ],
      "execution_count": 1,
      "outputs": [
        {
          "output_type": "stream",
          "text": [
            "Requirement already satisfied: contractions in /usr/local/lib/python3.6/dist-packages (0.0.25)\n",
            "Requirement already satisfied: textsearch in /usr/local/lib/python3.6/dist-packages (from contractions) (0.0.17)\n",
            "Requirement already satisfied: Unidecode in /usr/local/lib/python3.6/dist-packages (from textsearch->contractions) (1.1.1)\n",
            "Requirement already satisfied: pyahocorasick in /usr/local/lib/python3.6/dist-packages (from textsearch->contractions) (1.4.0)\n",
            "Requirement already satisfied: emoji in /usr/local/lib/python3.6/dist-packages (0.6.0)\n",
            "Requirement already satisfied: ekphrasis in /usr/local/lib/python3.6/dist-packages (0.5.1)\n",
            "Requirement already satisfied: ujson in /usr/local/lib/python3.6/dist-packages (from ekphrasis) (4.0.1)\n",
            "Requirement already satisfied: ftfy in /usr/local/lib/python3.6/dist-packages (from ekphrasis) (5.8)\n",
            "Requirement already satisfied: tqdm in /usr/local/lib/python3.6/dist-packages (from ekphrasis) (4.41.1)\n",
            "Requirement already satisfied: numpy in /usr/local/lib/python3.6/dist-packages (from ekphrasis) (1.18.5)\n",
            "Requirement already satisfied: matplotlib in /usr/local/lib/python3.6/dist-packages (from ekphrasis) (3.2.2)\n",
            "Requirement already satisfied: termcolor in /usr/local/lib/python3.6/dist-packages (from ekphrasis) (1.1.0)\n",
            "Requirement already satisfied: nltk in /usr/local/lib/python3.6/dist-packages (from ekphrasis) (3.2.5)\n",
            "Requirement already satisfied: colorama in /usr/local/lib/python3.6/dist-packages (from ekphrasis) (0.4.4)\n",
            "Requirement already satisfied: wcwidth in /usr/local/lib/python3.6/dist-packages (from ftfy->ekphrasis) (0.2.5)\n",
            "Requirement already satisfied: kiwisolver>=1.0.1 in /usr/local/lib/python3.6/dist-packages (from matplotlib->ekphrasis) (1.2.0)\n",
            "Requirement already satisfied: cycler>=0.10 in /usr/local/lib/python3.6/dist-packages (from matplotlib->ekphrasis) (0.10.0)\n",
            "Requirement already satisfied: python-dateutil>=2.1 in /usr/local/lib/python3.6/dist-packages (from matplotlib->ekphrasis) (2.8.1)\n",
            "Requirement already satisfied: pyparsing!=2.0.4,!=2.1.2,!=2.1.6,>=2.0.1 in /usr/local/lib/python3.6/dist-packages (from matplotlib->ekphrasis) (2.4.7)\n",
            "Requirement already satisfied: six in /usr/local/lib/python3.6/dist-packages (from nltk->ekphrasis) (1.15.0)\n",
            "[nltk_data] Downloading package punkt to /root/nltk_data...\n",
            "[nltk_data]   Package punkt is already up-to-date!\n",
            "[nltk_data] Downloading package stopwords to /root/nltk_data...\n",
            "[nltk_data]   Package stopwords is already up-to-date!\n"
          ],
          "name": "stdout"
        }
      ]
    },
    {
      "cell_type": "code",
      "metadata": {
        "id": "vFOsh5pJq2QZ",
        "outputId": "d8e8d313-417d-4b07-af4b-3195d01cc237",
        "colab": {
          "base_uri": "https://localhost:8080/",
          "height": 54
        }
      },
      "source": [
        "from google.colab import drive\n",
        "drive.mount('/content/drive')"
      ],
      "execution_count": 2,
      "outputs": [
        {
          "output_type": "stream",
          "text": [
            "Drive already mounted at /content/drive; to attempt to forcibly remount, call drive.mount(\"/content/drive\", force_remount=True).\n"
          ],
          "name": "stdout"
        }
      ]
    },
    {
      "cell_type": "markdown",
      "metadata": {
        "id": "T1O0ewkADyRM"
      },
      "source": [
        "## Load file"
      ]
    },
    {
      "cell_type": "code",
      "metadata": {
        "id": "BVXGLwXaq5I5",
        "outputId": "07e36ae8-912a-482f-e70a-6b1276a3aae7",
        "colab": {
          "base_uri": "https://localhost:8080/",
          "height": 419
        }
      },
      "source": [
        "df_comb = pd.read_csv('/content/drive/My Drive/Colab Notebooks/Capstone/Labelled (Percentage change)/WMT_label2.1.csv')\n",
        "combine_ds = df_comb.sample(frac=1)\n",
        "combine_ds"
      ],
      "execution_count": 3,
      "outputs": [
        {
          "output_type": "execute_result",
          "data": {
            "text/html": [
              "<div>\n",
              "<style scoped>\n",
              "    .dataframe tbody tr th:only-of-type {\n",
              "        vertical-align: middle;\n",
              "    }\n",
              "\n",
              "    .dataframe tbody tr th {\n",
              "        vertical-align: top;\n",
              "    }\n",
              "\n",
              "    .dataframe thead th {\n",
              "        text-align: right;\n",
              "    }\n",
              "</style>\n",
              "<table border=\"1\" class=\"dataframe\">\n",
              "  <thead>\n",
              "    <tr style=\"text-align: right;\">\n",
              "      <th></th>\n",
              "      <th>message</th>\n",
              "      <th>label</th>\n",
              "    </tr>\n",
              "  </thead>\n",
              "  <tbody>\n",
              "    <tr>\n",
              "      <th>10779</th>\n",
              "      <td>$WMT how are you bearish fools doing?</td>\n",
              "      <td>1</td>\n",
              "    </tr>\n",
              "    <tr>\n",
              "      <th>7731</th>\n",
              "      <td>$WMT more pain for stubborn shorts. -signed st...</td>\n",
              "      <td>1</td>\n",
              "    </tr>\n",
              "    <tr>\n",
              "      <th>3159</th>\n",
              "      <td>$WMT layoffs and cost cutting measures coming ...</td>\n",
              "      <td>-1</td>\n",
              "    </tr>\n",
              "    <tr>\n",
              "      <th>561</th>\n",
              "      <td>fyi: Huge (over 1 million) call vol in $T and ...</td>\n",
              "      <td>1</td>\n",
              "    </tr>\n",
              "    <tr>\n",
              "      <th>12165</th>\n",
              "      <td>The 6 Most Shorted Dow Stocks\\n\\n$MSFT  $CSCO ...</td>\n",
              "      <td>0</td>\n",
              "    </tr>\n",
              "    <tr>\n",
              "      <th>...</th>\n",
              "      <td>...</td>\n",
              "      <td>...</td>\n",
              "    </tr>\n",
              "    <tr>\n",
              "      <th>7153</th>\n",
              "      <td>Yesterdays  Sell On Close  Closing Order Imbal...</td>\n",
              "      <td>-1</td>\n",
              "    </tr>\n",
              "    <tr>\n",
              "      <th>7790</th>\n",
              "      <td>Why XPO Logistics Inc Stock Is More Than a Spe...</td>\n",
              "      <td>1</td>\n",
              "    </tr>\n",
              "    <tr>\n",
              "      <th>10965</th>\n",
              "      <td>Newport Wealth Strategies Inc.,has filed Form ...</td>\n",
              "      <td>1</td>\n",
              "    </tr>\n",
              "    <tr>\n",
              "      <th>12201</th>\n",
              "      <td>$WMT Walmart needs to show us some action today</td>\n",
              "      <td>1</td>\n",
              "    </tr>\n",
              "    <tr>\n",
              "      <th>1225</th>\n",
              "      <td>#Tesco 2nd of Top 3 global grocers to quit Jap...</td>\n",
              "      <td>1</td>\n",
              "    </tr>\n",
              "  </tbody>\n",
              "</table>\n",
              "<p>12231 rows × 2 columns</p>\n",
              "</div>"
            ],
            "text/plain": [
              "                                                 message  label\n",
              "10779              $WMT how are you bearish fools doing?      1\n",
              "7731   $WMT more pain for stubborn shorts. -signed st...      1\n",
              "3159   $WMT layoffs and cost cutting measures coming ...     -1\n",
              "561    fyi: Huge (over 1 million) call vol in $T and ...      1\n",
              "12165  The 6 Most Shorted Dow Stocks\\n\\n$MSFT  $CSCO ...      0\n",
              "...                                                  ...    ...\n",
              "7153   Yesterdays  Sell On Close  Closing Order Imbal...     -1\n",
              "7790   Why XPO Logistics Inc Stock Is More Than a Spe...      1\n",
              "10965  Newport Wealth Strategies Inc.,has filed Form ...      1\n",
              "12201    $WMT Walmart needs to show us some action today      1\n",
              "1225   #Tesco 2nd of Top 3 global grocers to quit Jap...      1\n",
              "\n",
              "[12231 rows x 2 columns]"
            ]
          },
          "metadata": {
            "tags": []
          },
          "execution_count": 3
        }
      ]
    },
    {
      "cell_type": "markdown",
      "metadata": {
        "id": "B8G7WU8SD08e"
      },
      "source": [
        "## Preprocess data"
      ]
    },
    {
      "cell_type": "code",
      "metadata": {
        "id": "z70r1eYrnoB_",
        "outputId": "ea37ebdc-ea6a-4fa9-ce8c-610b7bbac64f",
        "colab": {
          "base_uri": "https://localhost:8080/",
          "height": 54
        }
      },
      "source": [
        "combine_ds['message'] = combine_ds['message'].str.lower()\n",
        "message = combine_ds['message'].tolist()\n",
        "\n",
        "print(message[:10])"
      ],
      "execution_count": 4,
      "outputs": [
        {
          "output_type": "stream",
          "text": [
            "['$wmt how are you bearish fools doing?', '$wmt more pain for stubborn shorts. -signed stubborn long', '$wmt layoffs and cost cutting measures coming -brazil is a disaster.no position. if it gets to 45, maybe..lol', 'fyi: huge (over 1 million) call vol in $t and $vz itm july calls yesterday. chain: http://stk.ly/owk4r5 , http://stk.ly/mqiyye &gt;  what&#39;s up?', 'the 6 most shorted dow stocks\\n\\n$msft  $csco $vz $ko $v \\n\\nhttps://247wallst.com/investing/2019/12/26/6-most-shorted-dow-stocks-microsoft-is-king-of-the-hill-in-december/1/', '02:57:30 pm manual exit. closing my $wmt position of 672 shares that was opened oct 29 for a 0.07% gain.', '@sspencer_smb tmobile/sprint still a foreign owed enterprise, either way..  buy american $t and $vz ..', '@scarborory agree .... $s owns the most spectrum in the us comparing w $t , $vz and $tmus', '$baba just had some positive pr on fox news radio. talked about how $baba is destroying $wmt due to it&#39;s success.', '$wmt $ostk $msft employees chant this in the bathroom']\n"
          ],
          "name": "stdout"
        }
      ]
    },
    {
      "cell_type": "code",
      "metadata": {
        "id": "C65MA9lJnwEv"
      },
      "source": [
        "def remove_stopwords(msg):\n",
        "    filtered_sentence = [w for w in msg_tokens if not w in stop_words]\n",
        "    return filtered_sentence\n",
        "\n",
        "def remove_punctuation_re(x):\n",
        "    x = ' '.join(re.sub(\"https?://\\S+\",\"\",x).split())     #Removing URLs\n",
        "\n",
        "    x = ' '.join(re.sub(\"^@\\S+|\\s@\\S+\",\"\",x).split())     #Removing Mentions\n",
        "\n",
        "    # x = ' '.join(re.sub(r'[^$\\w\\s]',\" \",x).split())\n",
        "    x = ' '.join(re.sub(r'[^\\w\\s]',\" \",x).split())        #Removes Hashtags\n",
        "\n",
        "    x = ' '.join(re.sub(r'_',\" \",x).split())              #Removing _ from emojis text\n",
        "\n",
        "    return x\n",
        "\n",
        "# replace repeating letter\n",
        "def rpt_replace(match):\n",
        "    # print(match.group(1))\n",
        "    return match.group(1)+match.group(1)\n",
        "\n",
        "# substitute original word with replaced word, if any\n",
        "def processRepeatings(data):\n",
        "    re_t= re.sub(message_rpt, rpt_replace, data )\n",
        "    # print(re_t)\n",
        "    return re_t"
      ],
      "execution_count": 5,
      "outputs": []
    },
    {
      "cell_type": "code",
      "metadata": {
        "id": "_3YWRwzLBGs1",
        "outputId": "25a76e0b-f43d-4419-bfc5-77f4da53ff49",
        "colab": {
          "base_uri": "https://localhost:8080/",
          "height": 51
        }
      },
      "source": [
        "stop_words = sw.words(\"english\")\n",
        "tweet_tokenizer = TweetTokenizer()\n",
        "detokenizer = TreebankWordDetokenizer()\n",
        "# message_p = []\n",
        "\n",
        "# for repeating characters in words\n",
        "message_rpt = re.compile(r\"(.)\\1{2,}\", re.IGNORECASE)\n",
        "\n",
        "# segmenter using the word statistics from Twitter\n",
        "seg_tw = Segmenter(corpus=\"twitter\")\n"
      ],
      "execution_count": 6,
      "outputs": [
        {
          "output_type": "stream",
          "text": [
            "Reading twitter - 1grams ...\n",
            "Reading twitter - 2grams ...\n"
          ],
          "name": "stdout"
        }
      ]
    },
    {
      "cell_type": "code",
      "metadata": {
        "id": "4LRFAxgcn_fi"
      },
      "source": [
        "message_p = []\n",
        "for msg in message:\n",
        "    # remove emojis\n",
        "    msg = emoji.demojize(msg)\n",
        "\n",
        "    # fix contractions\n",
        "    msg = contractions.fix(msg)\n",
        "\n",
        "    # remove punctuations\n",
        "    msg = remove_punctuation_re(msg) \n",
        "\n",
        "    #tokenize\n",
        "    msg_tokens = tweet_tokenizer.tokenize(msg)\n",
        "\n",
        "    #For Hashtags elongated words using Word segmenter\n",
        "    message_seg = []\n",
        "    for w in msg_tokens:\n",
        "      message_seg.append(seg_tw.segment(w))\n",
        "\n",
        "    # remove stopwords\n",
        "    msg = remove_stopwords(message_seg)\n",
        "\n",
        "    if 'rt' in msg:\n",
        "      # remove retweets\n",
        "      message_p.append('-1')\n",
        "    else: \n",
        "      # detokenize\n",
        "      msg = detokenizer.detokenize(msg)\n",
        "\n",
        "      # removing repeating characters like hurrrryyyyyy-- worrks on tokenized list\n",
        "      msg = processRepeatings(msg)\n",
        "\n",
        "      message_p.append(msg)\n"
      ],
      "execution_count": 7,
      "outputs": []
    },
    {
      "cell_type": "code",
      "metadata": {
        "id": "pXWjHAcQoIEh",
        "outputId": "346a4824-d1fd-485f-8280-64eb64327499",
        "colab": {
          "base_uri": "https://localhost:8080/",
          "height": 187
        }
      },
      "source": [
        "message_p[:10]"
      ],
      "execution_count": 8,
      "outputs": [
        {
          "output_type": "execute_result",
          "data": {
            "text/plain": [
              "['wmt bearish fools',\n",
              " 'wmt pain stubborn shorts signed stubborn long',\n",
              " 'wmt layoffs cost cutting measures coming brazil disaster position gets 45 maybe lol',\n",
              " 'fyi huge 1 million call vol vz itm july calls yesterday chain gt 39',\n",
              " '6 shorted dow stocks msft csco vz ko v',\n",
              " '02 57 30 pm manual exit closing wmt position 672 shares opened oct 29 0 07 gain',\n",
              " 'tmobile sprint still foreign owed enterprise either way buy american vz',\n",
              " 'agree owns spectrum us comparing w vz tmus',\n",
              " 'baba positive pr fox news radio talked baba destroying wmt due 39 success',\n",
              " 'wmt ostk msft employees chant bathroom']"
            ]
          },
          "metadata": {
            "tags": []
          },
          "execution_count": 8
        }
      ]
    },
    {
      "cell_type": "code",
      "metadata": {
        "id": "KkSpMpJWAG4u",
        "outputId": "434cb601-02ad-4600-d726-93487cc11064",
        "colab": {
          "base_uri": "https://localhost:8080/",
          "height": 419
        }
      },
      "source": [
        "combine_ds['message'] = message_p\n",
        "combine_ds"
      ],
      "execution_count": 10,
      "outputs": [
        {
          "output_type": "execute_result",
          "data": {
            "text/html": [
              "<div>\n",
              "<style scoped>\n",
              "    .dataframe tbody tr th:only-of-type {\n",
              "        vertical-align: middle;\n",
              "    }\n",
              "\n",
              "    .dataframe tbody tr th {\n",
              "        vertical-align: top;\n",
              "    }\n",
              "\n",
              "    .dataframe thead th {\n",
              "        text-align: right;\n",
              "    }\n",
              "</style>\n",
              "<table border=\"1\" class=\"dataframe\">\n",
              "  <thead>\n",
              "    <tr style=\"text-align: right;\">\n",
              "      <th></th>\n",
              "      <th>message</th>\n",
              "      <th>label</th>\n",
              "    </tr>\n",
              "  </thead>\n",
              "  <tbody>\n",
              "    <tr>\n",
              "      <th>10779</th>\n",
              "      <td>wmt bearish fools</td>\n",
              "      <td>1</td>\n",
              "    </tr>\n",
              "    <tr>\n",
              "      <th>7731</th>\n",
              "      <td>wmt pain stubborn shorts signed stubborn long</td>\n",
              "      <td>1</td>\n",
              "    </tr>\n",
              "    <tr>\n",
              "      <th>3159</th>\n",
              "      <td>wmt layoffs cost cutting measures coming brazi...</td>\n",
              "      <td>-1</td>\n",
              "    </tr>\n",
              "    <tr>\n",
              "      <th>561</th>\n",
              "      <td>fyi huge 1 million call vol vz itm july calls ...</td>\n",
              "      <td>1</td>\n",
              "    </tr>\n",
              "    <tr>\n",
              "      <th>12165</th>\n",
              "      <td>6 shorted dow stocks msft csco vz ko v</td>\n",
              "      <td>0</td>\n",
              "    </tr>\n",
              "    <tr>\n",
              "      <th>...</th>\n",
              "      <td>...</td>\n",
              "      <td>...</td>\n",
              "    </tr>\n",
              "    <tr>\n",
              "      <th>7153</th>\n",
              "      <td>yesterdays sell close closing order imbalance ...</td>\n",
              "      <td>-1</td>\n",
              "    </tr>\n",
              "    <tr>\n",
              "      <th>7790</th>\n",
              "      <td>xpo logistics inc stock speculative buy xpo tg...</td>\n",
              "      <td>1</td>\n",
              "    </tr>\n",
              "    <tr>\n",
              "      <th>10965</th>\n",
              "      <td>newport wealth strategies inc filed form 13f q...</td>\n",
              "      <td>1</td>\n",
              "    </tr>\n",
              "    <tr>\n",
              "      <th>12201</th>\n",
              "      <td>wmt walmart needs show us action today</td>\n",
              "      <td>1</td>\n",
              "    </tr>\n",
              "    <tr>\n",
              "      <th>1225</th>\n",
              "      <td>tesco 2nd top 3 global grocers quit japan carr...</td>\n",
              "      <td>1</td>\n",
              "    </tr>\n",
              "  </tbody>\n",
              "</table>\n",
              "<p>12231 rows × 2 columns</p>\n",
              "</div>"
            ],
            "text/plain": [
              "                                                 message  label\n",
              "10779                                  wmt bearish fools      1\n",
              "7731       wmt pain stubborn shorts signed stubborn long      1\n",
              "3159   wmt layoffs cost cutting measures coming brazi...     -1\n",
              "561    fyi huge 1 million call vol vz itm july calls ...      1\n",
              "12165             6 shorted dow stocks msft csco vz ko v      0\n",
              "...                                                  ...    ...\n",
              "7153   yesterdays sell close closing order imbalance ...     -1\n",
              "7790   xpo logistics inc stock speculative buy xpo tg...      1\n",
              "10965  newport wealth strategies inc filed form 13f q...      1\n",
              "12201             wmt walmart needs show us action today      1\n",
              "1225   tesco 2nd top 3 global grocers quit japan carr...      1\n",
              "\n",
              "[12231 rows x 2 columns]"
            ]
          },
          "metadata": {
            "tags": []
          },
          "execution_count": 10
        }
      ]
    },
    {
      "cell_type": "code",
      "metadata": {
        "id": "3DraQK_uDcBU",
        "outputId": "1413d0b6-54b1-49e4-8fcb-26c8302a2c30",
        "colab": {
          "base_uri": "https://localhost:8080/",
          "height": 419
        }
      },
      "source": [
        "# Drop Retweets\n",
        "combine_ds.drop(combine_ds[combine_ds['message'] == '-1'].index, inplace = True) \n",
        "combine_ds"
      ],
      "execution_count": 12,
      "outputs": [
        {
          "output_type": "execute_result",
          "data": {
            "text/html": [
              "<div>\n",
              "<style scoped>\n",
              "    .dataframe tbody tr th:only-of-type {\n",
              "        vertical-align: middle;\n",
              "    }\n",
              "\n",
              "    .dataframe tbody tr th {\n",
              "        vertical-align: top;\n",
              "    }\n",
              "\n",
              "    .dataframe thead th {\n",
              "        text-align: right;\n",
              "    }\n",
              "</style>\n",
              "<table border=\"1\" class=\"dataframe\">\n",
              "  <thead>\n",
              "    <tr style=\"text-align: right;\">\n",
              "      <th></th>\n",
              "      <th>message</th>\n",
              "      <th>label</th>\n",
              "    </tr>\n",
              "  </thead>\n",
              "  <tbody>\n",
              "    <tr>\n",
              "      <th>10779</th>\n",
              "      <td>wmt bearish fools</td>\n",
              "      <td>1</td>\n",
              "    </tr>\n",
              "    <tr>\n",
              "      <th>7731</th>\n",
              "      <td>wmt pain stubborn shorts signed stubborn long</td>\n",
              "      <td>1</td>\n",
              "    </tr>\n",
              "    <tr>\n",
              "      <th>3159</th>\n",
              "      <td>wmt layoffs cost cutting measures coming brazi...</td>\n",
              "      <td>-1</td>\n",
              "    </tr>\n",
              "    <tr>\n",
              "      <th>561</th>\n",
              "      <td>fyi huge 1 million call vol vz itm july calls ...</td>\n",
              "      <td>1</td>\n",
              "    </tr>\n",
              "    <tr>\n",
              "      <th>12165</th>\n",
              "      <td>6 shorted dow stocks msft csco vz ko v</td>\n",
              "      <td>0</td>\n",
              "    </tr>\n",
              "    <tr>\n",
              "      <th>...</th>\n",
              "      <td>...</td>\n",
              "      <td>...</td>\n",
              "    </tr>\n",
              "    <tr>\n",
              "      <th>7153</th>\n",
              "      <td>yesterdays sell close closing order imbalance ...</td>\n",
              "      <td>-1</td>\n",
              "    </tr>\n",
              "    <tr>\n",
              "      <th>7790</th>\n",
              "      <td>xpo logistics inc stock speculative buy xpo tg...</td>\n",
              "      <td>1</td>\n",
              "    </tr>\n",
              "    <tr>\n",
              "      <th>10965</th>\n",
              "      <td>newport wealth strategies inc filed form 13f q...</td>\n",
              "      <td>1</td>\n",
              "    </tr>\n",
              "    <tr>\n",
              "      <th>12201</th>\n",
              "      <td>wmt walmart needs show us action today</td>\n",
              "      <td>1</td>\n",
              "    </tr>\n",
              "    <tr>\n",
              "      <th>1225</th>\n",
              "      <td>tesco 2nd top 3 global grocers quit japan carr...</td>\n",
              "      <td>1</td>\n",
              "    </tr>\n",
              "  </tbody>\n",
              "</table>\n",
              "<p>12082 rows × 2 columns</p>\n",
              "</div>"
            ],
            "text/plain": [
              "                                                 message  label\n",
              "10779                                  wmt bearish fools      1\n",
              "7731       wmt pain stubborn shorts signed stubborn long      1\n",
              "3159   wmt layoffs cost cutting measures coming brazi...     -1\n",
              "561    fyi huge 1 million call vol vz itm july calls ...      1\n",
              "12165             6 shorted dow stocks msft csco vz ko v      0\n",
              "...                                                  ...    ...\n",
              "7153   yesterdays sell close closing order imbalance ...     -1\n",
              "7790   xpo logistics inc stock speculative buy xpo tg...      1\n",
              "10965  newport wealth strategies inc filed form 13f q...      1\n",
              "12201             wmt walmart needs show us action today      1\n",
              "1225   tesco 2nd top 3 global grocers quit japan carr...      1\n",
              "\n",
              "[12082 rows x 2 columns]"
            ]
          },
          "metadata": {
            "tags": []
          },
          "execution_count": 12
        }
      ]
    }
  ]
}