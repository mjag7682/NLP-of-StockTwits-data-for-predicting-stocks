{
  "nbformat": 4,
  "nbformat_minor": 0,
  "metadata": {
    "colab": {
      "name": "Naive_Bayes.ipynb",
      "provenance": [],
      "include_colab_link": true
    },
    "kernelspec": {
      "name": "python3",
      "display_name": "Python 3"
    }
  },
  "cells": [
    {
      "cell_type": "markdown",
      "metadata": {
        "id": "view-in-github",
        "colab_type": "text"
      },
      "source": [
        "<a href=\"https://colab.research.google.com/github/mjag7682/CS9-1-NLP-for-Twitter-Data-for-predicting-stocks/blob/master/Naive_Bayes.ipynb\" target=\"_parent\"><img src=\"https://colab.research.google.com/assets/colab-badge.svg\" alt=\"Open In Colab\"/></a>"
      ]
    },
    {
      "cell_type": "markdown",
      "metadata": {
        "id": "5hLG3xAhUgyC"
      },
      "source": [
        "##Imports"
      ]
    },
    {
      "cell_type": "markdown",
      "metadata": {
        "id": "9Som5ZKWUiyo"
      },
      "source": [
        "Loading the required imports"
      ]
    },
    {
      "cell_type": "code",
      "metadata": {
        "id": "TaDFTaiKTl6l"
      },
      "source": [
        "import pandas as pd\n",
        "import numpy as np\n",
        "import tensorflow as tf\n",
        "from sklearn.model_selection import train_test_split"
      ],
      "execution_count": null,
      "outputs": []
    },
    {
      "cell_type": "markdown",
      "metadata": {
        "id": "Iz7GM4OhUlUd"
      },
      "source": [
        "Mounting the Google Drive"
      ]
    },
    {
      "cell_type": "code",
      "metadata": {
        "colab": {
          "base_uri": "https://localhost:8080/"
        },
        "id": "FQg0KqdxTrtA",
        "outputId": "7034c3eb-57a9-41b3-9c03-e4a040f34cc2"
      },
      "source": [
        "from google.colab import drive\n",
        "drive.mount('/content/drive')"
      ],
      "execution_count": null,
      "outputs": [
        {
          "output_type": "stream",
          "text": [
            "Drive already mounted at /content/drive; to attempt to forcibly remount, call drive.mount(\"/content/drive\", force_remount=True).\n"
          ],
          "name": "stdout"
        }
      ]
    },
    {
      "cell_type": "markdown",
      "metadata": {
        "id": "F6ELpYFGUo8_"
      },
      "source": [
        "##Data"
      ]
    },
    {
      "cell_type": "markdown",
      "metadata": {
        "id": "3tyssecmUqyT"
      },
      "source": [
        "Loading the Dataset"
      ]
    },
    {
      "cell_type": "code",
      "metadata": {
        "colab": {
          "base_uri": "https://localhost:8080/",
          "height": 195
        },
        "id": "ByZnvIlETyCU",
        "outputId": "f4f9710f-d625-4029-fda8-aacdfb64d47e"
      },
      "source": [
        "df = pd.read_csv('/content/drive/MyDrive/Data/Combined_FAANG_percentage_2.2.csv', sep=',')\n",
        "df = df.sample(frac=1)\n",
        "df.head()"
      ],
      "execution_count": null,
      "outputs": [
        {
          "output_type": "execute_result",
          "data": {
            "text/html": [
              "<div>\n",
              "<style scoped>\n",
              "    .dataframe tbody tr th:only-of-type {\n",
              "        vertical-align: middle;\n",
              "    }\n",
              "\n",
              "    .dataframe tbody tr th {\n",
              "        vertical-align: top;\n",
              "    }\n",
              "\n",
              "    .dataframe thead th {\n",
              "        text-align: right;\n",
              "    }\n",
              "</style>\n",
              "<table border=\"1\" class=\"dataframe\">\n",
              "  <thead>\n",
              "    <tr style=\"text-align: right;\">\n",
              "      <th></th>\n",
              "      <th>symbol</th>\n",
              "      <th>message</th>\n",
              "      <th>datetime</th>\n",
              "      <th>user</th>\n",
              "      <th>message_id</th>\n",
              "      <th>Date</th>\n",
              "      <th>Time</th>\n",
              "      <th>label</th>\n",
              "    </tr>\n",
              "  </thead>\n",
              "  <tbody>\n",
              "    <tr>\n",
              "      <th>1844914</th>\n",
              "      <td>GOOGL</td>\n",
              "      <td>fb aapl nflx googl buying today keep lots rese...</td>\n",
              "      <td>2017-06-12 19:03:51</td>\n",
              "      <td>400447</td>\n",
              "      <td>85731859</td>\n",
              "      <td>2017-06-12</td>\n",
              "      <td>19:03:51</td>\n",
              "      <td>-1</td>\n",
              "    </tr>\n",
              "    <tr>\n",
              "      <th>1804415</th>\n",
              "      <td>GOOGL</td>\n",
              "      <td>goog aapl msft amzn agree many baby boomers si...</td>\n",
              "      <td>2020-03-12 19:09:20</td>\n",
              "      <td>2188611</td>\n",
              "      <td>199973618</td>\n",
              "      <td>2020-03-12</td>\n",
              "      <td>19:09:20</td>\n",
              "      <td>-1</td>\n",
              "    </tr>\n",
              "    <tr>\n",
              "      <th>1585770</th>\n",
              "      <td>AMZN</td>\n",
              "      <td>amzn amzn spy overbought right wow ob</td>\n",
              "      <td>2015-11-08 17:27:42</td>\n",
              "      <td>269488</td>\n",
              "      <td>45126974</td>\n",
              "      <td>2015-11-08</td>\n",
              "      <td>17:27:42</td>\n",
              "      <td>0</td>\n",
              "    </tr>\n",
              "    <tr>\n",
              "      <th>830008</th>\n",
              "      <td>AAPL</td>\n",
              "      <td>bbry aapl apple would get split even doubt</td>\n",
              "      <td>2015-11-13 22:22:55</td>\n",
              "      <td>608017</td>\n",
              "      <td>45445869</td>\n",
              "      <td>2015-11-13</td>\n",
              "      <td>22:22:55</td>\n",
              "      <td>-1</td>\n",
              "    </tr>\n",
              "    <tr>\n",
              "      <th>1224140</th>\n",
              "      <td>AAPL</td>\n",
              "      <td>great let us put another 100 00 chinese work e...</td>\n",
              "      <td>2011-03-02 18:42:05</td>\n",
              "      <td>47962</td>\n",
              "      <td>3010812</td>\n",
              "      <td>2011-03-02</td>\n",
              "      <td>18:42:05</td>\n",
              "      <td>1</td>\n",
              "    </tr>\n",
              "  </tbody>\n",
              "</table>\n",
              "</div>"
            ],
            "text/plain": [
              "        symbol  ... label\n",
              "1844914  GOOGL  ...    -1\n",
              "1804415  GOOGL  ...    -1\n",
              "1585770   AMZN  ...     0\n",
              "830008    AAPL  ...    -1\n",
              "1224140   AAPL  ...     1\n",
              "\n",
              "[5 rows x 8 columns]"
            ]
          },
          "metadata": {
            "tags": []
          },
          "execution_count": 3
        }
      ]
    },
    {
      "cell_type": "markdown",
      "metadata": {
        "id": "cmog4BlYUtAY"
      },
      "source": [
        "Limiting dataset to 1 year"
      ]
    },
    {
      "cell_type": "code",
      "metadata": {
        "colab": {
          "base_uri": "https://localhost:8080/",
          "height": 402
        },
        "id": "igR0m30yT0B8",
        "outputId": "ed64aa8c-ebbd-4691-c472-b2955d48ee63"
      },
      "source": [
        "df.drop(df[df['Date'] <= '2019-07-20'].index, inplace = True) \n",
        "df"
      ],
      "execution_count": null,
      "outputs": [
        {
          "output_type": "execute_result",
          "data": {
            "text/html": [
              "<div>\n",
              "<style scoped>\n",
              "    .dataframe tbody tr th:only-of-type {\n",
              "        vertical-align: middle;\n",
              "    }\n",
              "\n",
              "    .dataframe tbody tr th {\n",
              "        vertical-align: top;\n",
              "    }\n",
              "\n",
              "    .dataframe thead th {\n",
              "        text-align: right;\n",
              "    }\n",
              "</style>\n",
              "<table border=\"1\" class=\"dataframe\">\n",
              "  <thead>\n",
              "    <tr style=\"text-align: right;\">\n",
              "      <th></th>\n",
              "      <th>symbol</th>\n",
              "      <th>message</th>\n",
              "      <th>datetime</th>\n",
              "      <th>user</th>\n",
              "      <th>message_id</th>\n",
              "      <th>Date</th>\n",
              "      <th>Time</th>\n",
              "      <th>label</th>\n",
              "    </tr>\n",
              "  </thead>\n",
              "  <tbody>\n",
              "    <tr>\n",
              "      <th>1804415</th>\n",
              "      <td>GOOGL</td>\n",
              "      <td>goog aapl msft amzn agree many baby boomers si...</td>\n",
              "      <td>2020-03-12 19:09:20</td>\n",
              "      <td>2188611</td>\n",
              "      <td>199973618</td>\n",
              "      <td>2020-03-12</td>\n",
              "      <td>19:09:20</td>\n",
              "      <td>-1</td>\n",
              "    </tr>\n",
              "    <tr>\n",
              "      <th>2003832</th>\n",
              "      <td>NFLX</td>\n",
              "      <td>3 reasons avoid netflix stock investorplace nflx</td>\n",
              "      <td>2019-08-10 02:52:40</td>\n",
              "      <td>315406</td>\n",
              "      <td>173668907</td>\n",
              "      <td>2019-08-10</td>\n",
              "      <td>02:52:40</td>\n",
              "      <td>-1</td>\n",
              "    </tr>\n",
              "    <tr>\n",
              "      <th>88437</th>\n",
              "      <td>AAPL</td>\n",
              "      <td>aapl want sub 240</td>\n",
              "      <td>2020-03-19 14:58:54</td>\n",
              "      <td>1239917</td>\n",
              "      <td>201425598</td>\n",
              "      <td>2020-03-19</td>\n",
              "      <td>14:58:54</td>\n",
              "      <td>-1</td>\n",
              "    </tr>\n",
              "    <tr>\n",
              "      <th>1950970</th>\n",
              "      <td>NFLX</td>\n",
              "      <td>amzn tsla nflx dis going volume ah day lol lik...</td>\n",
              "      <td>2020-02-10 22:18:21</td>\n",
              "      <td>1858638</td>\n",
              "      <td>194245159</td>\n",
              "      <td>2020-02-10</td>\n",
              "      <td>22:18:21</td>\n",
              "      <td>1</td>\n",
              "    </tr>\n",
              "    <tr>\n",
              "      <th>1261725</th>\n",
              "      <td>AMZN</td>\n",
              "      <td>amzn hourly double top</td>\n",
              "      <td>2020-04-20 17:13:24</td>\n",
              "      <td>226994</td>\n",
              "      <td>207401664</td>\n",
              "      <td>2020-04-20</td>\n",
              "      <td>17:13:24</td>\n",
              "      <td>1</td>\n",
              "    </tr>\n",
              "    <tr>\n",
              "      <th>...</th>\n",
              "      <td>...</td>\n",
              "      <td>...</td>\n",
              "      <td>...</td>\n",
              "      <td>...</td>\n",
              "      <td>...</td>\n",
              "      <td>...</td>\n",
              "      <td>...</td>\n",
              "      <td>...</td>\n",
              "    </tr>\n",
              "    <tr>\n",
              "      <th>1912123</th>\n",
              "      <td>NFLX</td>\n",
              "      <td>nflx think see 100 year</td>\n",
              "      <td>2020-07-13 03:46:58</td>\n",
              "      <td>3143716</td>\n",
              "      <td>227197017</td>\n",
              "      <td>2020-07-13</td>\n",
              "      <td>03:46:58</td>\n",
              "      <td>-1</td>\n",
              "    </tr>\n",
              "    <tr>\n",
              "      <th>1928828</th>\n",
              "      <td>NFLX</td>\n",
              "      <td>nflx bear trap</td>\n",
              "      <td>2020-04-23 13:59:56</td>\n",
              "      <td>854948</td>\n",
              "      <td>208084021</td>\n",
              "      <td>2020-04-23</td>\n",
              "      <td>13:59:56</td>\n",
              "      <td>1</td>\n",
              "    </tr>\n",
              "    <tr>\n",
              "      <th>1806221</th>\n",
              "      <td>GOOGL</td>\n",
              "      <td>tsla growing revenues market share champ orcl ...</td>\n",
              "      <td>2020-02-07 13:20:28</td>\n",
              "      <td>291359</td>\n",
              "      <td>193838059</td>\n",
              "      <td>2020-02-07</td>\n",
              "      <td>13:20:28</td>\n",
              "      <td>0</td>\n",
              "    </tr>\n",
              "    <tr>\n",
              "      <th>1249623</th>\n",
              "      <td>AMZN</td>\n",
              "      <td>money bag please see daily watchlist made john...</td>\n",
              "      <td>2020-06-09 13:34:46</td>\n",
              "      <td>1202534</td>\n",
              "      <td>218321136</td>\n",
              "      <td>2020-06-09</td>\n",
              "      <td>13:34:46</td>\n",
              "      <td>1</td>\n",
              "    </tr>\n",
              "    <tr>\n",
              "      <th>90809</th>\n",
              "      <td>AAPL</td>\n",
              "      <td>aapl new article apple says retail stores clos...</td>\n",
              "      <td>2020-03-17 18:26:16</td>\n",
              "      <td>1555408</td>\n",
              "      <td>200958096</td>\n",
              "      <td>2020-03-17</td>\n",
              "      <td>18:26:16</td>\n",
              "      <td>1</td>\n",
              "    </tr>\n",
              "  </tbody>\n",
              "</table>\n",
              "<p>514320 rows × 8 columns</p>\n",
              "</div>"
            ],
            "text/plain": [
              "        symbol  ... label\n",
              "1804415  GOOGL  ...    -1\n",
              "2003832   NFLX  ...    -1\n",
              "88437     AAPL  ...    -1\n",
              "1950970   NFLX  ...     1\n",
              "1261725   AMZN  ...     1\n",
              "...        ...  ...   ...\n",
              "1912123   NFLX  ...    -1\n",
              "1928828   NFLX  ...     1\n",
              "1806221  GOOGL  ...     0\n",
              "1249623   AMZN  ...     1\n",
              "90809     AAPL  ...     1\n",
              "\n",
              "[514320 rows x 8 columns]"
            ]
          },
          "metadata": {
            "tags": []
          },
          "execution_count": 4
        }
      ]
    },
    {
      "cell_type": "markdown",
      "metadata": {
        "id": "BsbBxPojU1yR"
      },
      "source": [
        "Dropping Neutral labels"
      ]
    },
    {
      "cell_type": "code",
      "metadata": {
        "id": "XFX2ofvUT3N8"
      },
      "source": [
        "df.drop(df[df['label']==0].index, inplace= True)\n",
        "df['label'].replace({-1:0}, inplace = True)"
      ],
      "execution_count": null,
      "outputs": []
    },
    {
      "cell_type": "code",
      "metadata": {
        "colab": {
          "base_uri": "https://localhost:8080/"
        },
        "id": "kLX9S8iZT5Gg",
        "outputId": "03622785-1d75-4214-8352-5163785134c3"
      },
      "source": [
        "df[\"label\"].value_counts()"
      ],
      "execution_count": null,
      "outputs": [
        {
          "output_type": "execute_result",
          "data": {
            "text/plain": [
              "1    238950\n",
              "0    170484\n",
              "Name: label, dtype: int64"
            ]
          },
          "metadata": {
            "tags": []
          },
          "execution_count": 6
        }
      ]
    },
    {
      "cell_type": "markdown",
      "metadata": {
        "id": "sVU2HIE1U43r"
      },
      "source": [
        "##Splitting Dataset"
      ]
    },
    {
      "cell_type": "code",
      "metadata": {
        "id": "1SCl1WHET7AT"
      },
      "source": [
        "from sklearn.model_selection import train_test_split\n",
        "X_train, X_test, y_train, y_test = train_test_split(df['message'], df['label'], \n",
        "                                                                            random_state = 42, test_size = 0.1)"
      ],
      "execution_count": null,
      "outputs": []
    },
    {
      "cell_type": "markdown",
      "metadata": {
        "id": "Kq2HzpKdU8t_"
      },
      "source": [
        "##TF-IDF Vectorizer"
      ]
    },
    {
      "cell_type": "code",
      "metadata": {
        "id": "gKgjjZHRUHCY"
      },
      "source": [
        "from sklearn.feature_extraction.text import TfidfVectorizer\n",
        "tf_idf = TfidfVectorizer(use_idf=True,ngram_range=(2,2))"
      ],
      "execution_count": null,
      "outputs": []
    },
    {
      "cell_type": "code",
      "metadata": {
        "id": "KU40I1gCUNTb"
      },
      "source": [
        "#Extracting features of the training data\n",
        "train_features = tf_idf.fit_transform(X_train)\n",
        "\n",
        "#Extracting features of the test data\n",
        "test_features = tf_idf.transform(X_test)\n"
      ],
      "execution_count": null,
      "outputs": []
    },
    {
      "cell_type": "markdown",
      "metadata": {
        "id": "0gY18o23VJ1Z"
      },
      "source": [
        "##Naive Bayes"
      ]
    },
    {
      "cell_type": "markdown",
      "metadata": {
        "id": "nfCKWla4VMq4"
      },
      "source": [
        "Training the Model"
      ]
    },
    {
      "cell_type": "code",
      "metadata": {
        "colab": {
          "base_uri": "https://localhost:8080/"
        },
        "id": "wfw_dMDbUQx0",
        "outputId": "14577fad-c7c7-4c4a-f405-d236a1a0b80a"
      },
      "source": [
        "from sklearn.naive_bayes import MultinomialNB\n",
        "model = MultinomialNB(alpha=0.1)\n",
        "model.fit(train_features, y_train)\n",
        "\n",
        "model.score(test_features, y_test)"
      ],
      "execution_count": null,
      "outputs": [
        {
          "output_type": "execute_result",
          "data": {
            "text/plain": [
              "0.6185765924189136"
            ]
          },
          "metadata": {
            "tags": []
          },
          "execution_count": 10
        }
      ]
    },
    {
      "cell_type": "markdown",
      "metadata": {
        "id": "ZEXAUDCYVP_y"
      },
      "source": [
        "Prediction on Test set"
      ]
    },
    {
      "cell_type": "code",
      "metadata": {
        "id": "tSOR_6KIUWvW"
      },
      "source": [
        "y_pred = model.predict(test_features)"
      ],
      "execution_count": null,
      "outputs": []
    },
    {
      "cell_type": "markdown",
      "metadata": {
        "id": "D35G-koHVR6R"
      },
      "source": [
        "## Classification Report"
      ]
    },
    {
      "cell_type": "code",
      "metadata": {
        "colab": {
          "base_uri": "https://localhost:8080/"
        },
        "id": "FFMNdGevUYdJ",
        "outputId": "ade92bbc-ac77-4ed9-f8da-8cc3116d0364"
      },
      "source": [
        "from sklearn.metrics import classification_report\n",
        "print(classification_report(y_test, y_pred))"
      ],
      "execution_count": null,
      "outputs": [
        {
          "output_type": "stream",
          "text": [
            "              precision    recall  f1-score   support\n",
            "\n",
            "           0       0.56      0.40      0.47     16998\n",
            "           1       0.64      0.77      0.70     23946\n",
            "\n",
            "    accuracy                           0.62     40944\n",
            "   macro avg       0.60      0.59      0.58     40944\n",
            "weighted avg       0.61      0.62      0.60     40944\n",
            "\n"
          ],
          "name": "stdout"
        }
      ]
    }
  ]
}