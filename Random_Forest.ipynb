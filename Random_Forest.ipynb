{
  "nbformat": 4,
  "nbformat_minor": 0,
  "metadata": {
    "colab": {
      "name": "Random Forest",
      "provenance": [],
      "collapsed_sections": [],
      "toc_visible": true,
      "machine_shape": "hm"
    },
    "kernelspec": {
      "name": "python3",
      "display_name": "Python 3"
    },
    "accelerator": "GPU"
  },
  "cells": [
    {
      "cell_type": "markdown",
      "metadata": {
        "id": "i46uvn01vmSB"
      },
      "source": [
        "##Mount Drive"
      ]
    },
    {
      "cell_type": "code",
      "metadata": {
        "id": "qjEx8w8rMf7V",
        "colab": {
          "base_uri": "https://localhost:8080/"
        },
        "outputId": "a2e5dc91-91b3-4f02-f35f-c141ae307468"
      },
      "source": [
        "from google.colab import drive\n",
        "drive.mount('/content/gdrive')"
      ],
      "execution_count": null,
      "outputs": [
        {
          "output_type": "stream",
          "text": [
            "Mounted at /content/gdrive\n"
          ],
          "name": "stdout"
        }
      ]
    },
    {
      "cell_type": "markdown",
      "metadata": {
        "id": "7nvebcfNoGJ4"
      },
      "source": [
        "##Imports"
      ]
    },
    {
      "cell_type": "code",
      "metadata": {
        "id": "MtM8YfojYhP7"
      },
      "source": [
        "import pandas as pd\n",
        "import numpy as np\n",
        "import torch\n",
        "import tensorflow as tf\n",
        "from sklearn.model_selection import train_test_split\n",
        "import re"
      ],
      "execution_count": null,
      "outputs": []
    },
    {
      "cell_type": "markdown",
      "metadata": {
        "id": "4mA_B6Uo_dfj"
      },
      "source": [
        "## Load Data"
      ]
    },
    {
      "cell_type": "code",
      "metadata": {
        "id": "LgxpYg8xyFSO"
      },
      "source": [
        "# Load the FAANG dataset for StockTwits\n",
        "# uncomment to choose file to load\n",
        "# 1st link is for percentage change for FAANG data\n",
        "# 2nd file is for binary classification for FAANG\n",
        "\n",
        "df = pd.read_csv('/content/drive/My Drive/Data/Combined_FAANG_percentage_2.2.csv', sep=',')\n",
        "# df = pd.read_csv('/content/gdrive/MyDrive/Capstone/Combined_FAANG_binary_previous.csv')"
      ],
      "execution_count": null,
      "outputs": []
    },
    {
      "cell_type": "code",
      "metadata": {
        "id": "K0i6Ne6poGre",
        "colab": {
          "base_uri": "https://localhost:8080/",
          "height": 589
        },
        "outputId": "f29516a1-5cb3-4759-f79d-83f6590d3b55"
      },
      "source": [
        "# Change the year as per the requirement, Currently 1 year data is selected\n",
        "df.drop(df[df['Date'] <= '2019-07-20'].index, inplace = True) \n",
        "df"
      ],
      "execution_count": null,
      "outputs": [
        {
          "output_type": "execute_result",
          "data": {
            "text/html": [
              "<div>\n",
              "<style scoped>\n",
              "    .dataframe tbody tr th:only-of-type {\n",
              "        vertical-align: middle;\n",
              "    }\n",
              "\n",
              "    .dataframe tbody tr th {\n",
              "        vertical-align: top;\n",
              "    }\n",
              "\n",
              "    .dataframe thead th {\n",
              "        text-align: right;\n",
              "    }\n",
              "</style>\n",
              "<table border=\"1\" class=\"dataframe\">\n",
              "  <thead>\n",
              "    <tr style=\"text-align: right;\">\n",
              "      <th></th>\n",
              "      <th>symbol</th>\n",
              "      <th>message</th>\n",
              "      <th>datetime</th>\n",
              "      <th>user</th>\n",
              "      <th>message_id</th>\n",
              "      <th>Date</th>\n",
              "      <th>Time</th>\n",
              "      <th>label</th>\n",
              "    </tr>\n",
              "  </thead>\n",
              "  <tbody>\n",
              "    <tr>\n",
              "      <th>1</th>\n",
              "      <td>AAPL</td>\n",
              "      <td>aapl watching gap fill 169 20</td>\n",
              "      <td>2018-11-24 07:02:32</td>\n",
              "      <td>1665234.0</td>\n",
              "      <td>146068732.0</td>\n",
              "      <td>2018-11-24</td>\n",
              "      <td>07:02:32</td>\n",
              "      <td>1</td>\n",
              "    </tr>\n",
              "    <tr>\n",
              "      <th>3</th>\n",
              "      <td>AAPL</td>\n",
              "      <td>aapl</td>\n",
              "      <td>2020-01-27 07:07:03</td>\n",
              "      <td>1229493.0</td>\n",
              "      <td>191978042.0</td>\n",
              "      <td>2020-01-27</td>\n",
              "      <td>07:07:03</td>\n",
              "      <td>0</td>\n",
              "    </tr>\n",
              "    <tr>\n",
              "      <th>5</th>\n",
              "      <td>AAPL</td>\n",
              "      <td>aapl loads cash hand great service business lo...</td>\n",
              "      <td>2018-11-01 23:39:14</td>\n",
              "      <td>123291.0</td>\n",
              "      <td>143688765.0</td>\n",
              "      <td>2018-11-01</td>\n",
              "      <td>23:39:14</td>\n",
              "      <td>1</td>\n",
              "    </tr>\n",
              "    <tr>\n",
              "      <th>8</th>\n",
              "      <td>AAPL</td>\n",
              "      <td>qq became euphoric calls exp week aiming ath f...</td>\n",
              "      <td>2020-05-13 02:13:00</td>\n",
              "      <td>2250451.0</td>\n",
              "      <td>212222428.0</td>\n",
              "      <td>2020-05-13</td>\n",
              "      <td>02:13:00</td>\n",
              "      <td>0</td>\n",
              "    </tr>\n",
              "    <tr>\n",
              "      <th>9</th>\n",
              "      <td>AAPL</td>\n",
              "      <td>spy novices like davey day trader lose money s...</td>\n",
              "      <td>2020-06-24 11:12:09</td>\n",
              "      <td>543250.0</td>\n",
              "      <td>222404886.0</td>\n",
              "      <td>2020-06-24</td>\n",
              "      <td>11:12:09</td>\n",
              "      <td>0</td>\n",
              "    </tr>\n",
              "    <tr>\n",
              "      <th>...</th>\n",
              "      <td>...</td>\n",
              "      <td>...</td>\n",
              "      <td>...</td>\n",
              "      <td>...</td>\n",
              "      <td>...</td>\n",
              "      <td>...</td>\n",
              "      <td>...</td>\n",
              "      <td>...</td>\n",
              "    </tr>\n",
              "    <tr>\n",
              "      <th>2566843</th>\n",
              "      <td>NFLX</td>\n",
              "      <td>nflx last 3 months big green candles followed ...</td>\n",
              "      <td>2019-05-01 18:21:25</td>\n",
              "      <td>637003.0</td>\n",
              "      <td>162589986.0</td>\n",
              "      <td>2019-05-01</td>\n",
              "      <td>18:21:25</td>\n",
              "      <td>1</td>\n",
              "    </tr>\n",
              "    <tr>\n",
              "      <th>2566848</th>\n",
              "      <td>NFLX</td>\n",
              "      <td>nflx full move key support</td>\n",
              "      <td>2020-03-12 16:52:43</td>\n",
              "      <td>677915.0</td>\n",
              "      <td>199933357.0</td>\n",
              "      <td>2020-03-12</td>\n",
              "      <td>16:52:43</td>\n",
              "      <td>0</td>\n",
              "    </tr>\n",
              "    <tr>\n",
              "      <th>2566849</th>\n",
              "      <td>NFLX</td>\n",
              "      <td>spy spx nflx nvda virtually volume today absen...</td>\n",
              "      <td>2019-10-14 18:16:28</td>\n",
              "      <td>55818.0</td>\n",
              "      <td>180328889.0</td>\n",
              "      <td>2019-10-14</td>\n",
              "      <td>18:16:28</td>\n",
              "      <td>1</td>\n",
              "    </tr>\n",
              "    <tr>\n",
              "      <th>2566853</th>\n",
              "      <td>NFLX</td>\n",
              "      <td>nflx sister owns kinda thinking telling sell b...</td>\n",
              "      <td>2019-01-11 20:51:22</td>\n",
              "      <td>607557.0</td>\n",
              "      <td>150426203.0</td>\n",
              "      <td>2019-01-11</td>\n",
              "      <td>20:51:22</td>\n",
              "      <td>1</td>\n",
              "    </tr>\n",
              "    <tr>\n",
              "      <th>2566857</th>\n",
              "      <td>NFLX</td>\n",
              "      <td>nflx stock unstable ups downs like ex girlfriend</td>\n",
              "      <td>2020-02-27 14:52:21</td>\n",
              "      <td>2153160.0</td>\n",
              "      <td>196927202.0</td>\n",
              "      <td>2020-02-27</td>\n",
              "      <td>14:52:21</td>\n",
              "      <td>0</td>\n",
              "    </tr>\n",
              "  </tbody>\n",
              "</table>\n",
              "<p>1021450 rows × 8 columns</p>\n",
              "</div>"
            ],
            "text/plain": [
              "        symbol  ... label\n",
              "1         AAPL  ...     1\n",
              "3         AAPL  ...     0\n",
              "5         AAPL  ...     1\n",
              "8         AAPL  ...     0\n",
              "9         AAPL  ...     0\n",
              "...        ...  ...   ...\n",
              "2566843   NFLX  ...     1\n",
              "2566848   NFLX  ...     0\n",
              "2566849   NFLX  ...     1\n",
              "2566853   NFLX  ...     1\n",
              "2566857   NFLX  ...     0\n",
              "\n",
              "[1021450 rows x 8 columns]"
            ]
          },
          "metadata": {
            "tags": []
          },
          "execution_count": 19
        }
      ]
    },
    {
      "cell_type": "code",
      "metadata": {
        "id": "iJurHQYPoVUa",
        "colab": {
          "base_uri": "https://localhost:8080/"
        },
        "outputId": "566a68d3-b49e-4d9f-9ff9-88de55824f5b"
      },
      "source": [
        "df[\"label\"].value_counts()"
      ],
      "execution_count": null,
      "outputs": [
        {
          "output_type": "execute_result",
          "data": {
            "text/plain": [
              "1    548894\n",
              "0    472556\n",
              "Name: label, dtype: int64"
            ]
          },
          "metadata": {
            "tags": []
          },
          "execution_count": 20
        }
      ]
    },
    {
      "cell_type": "code",
      "metadata": {
        "id": "3XUhG26DcYQ8",
        "colab": {
          "base_uri": "https://localhost:8080/"
        },
        "outputId": "c6260ecd-e34c-4e62-884f-bed7dbf1c243"
      },
      "source": [
        "# Dropping the neutral values\n",
        "df.drop(df[df['label'] == 0].index, inplace = True) \n",
        "df['label'].value_counts()"
      ],
      "execution_count": null,
      "outputs": [
        {
          "output_type": "execute_result",
          "data": {
            "text/plain": [
              " 1    451745\n",
              "-1    371365\n",
              "Name: label, dtype: int64"
            ]
          },
          "metadata": {
            "tags": []
          },
          "execution_count": 11
        }
      ]
    },
    {
      "cell_type": "code",
      "metadata": {
        "id": "kqjJuPFjdZjH"
      },
      "source": [
        "df[\"label\"].replace({-1: 0}, inplace=True) # therefore, 0 - negative, 1 - positive"
      ],
      "execution_count": null,
      "outputs": []
    },
    {
      "cell_type": "code",
      "metadata": {
        "id": "OCYyb-vhol9S"
      },
      "source": [
        "df = df.sample(frac=1)"
      ],
      "execution_count": null,
      "outputs": []
    },
    {
      "cell_type": "markdown",
      "metadata": {
        "id": "4KGhjpkMGLsT"
      },
      "source": [
        "##Train and predict"
      ]
    },
    {
      "cell_type": "code",
      "metadata": {
        "id": "XtzXPg3H8okG"
      },
      "source": [
        "# Splitting the data in 90:10 ratio, i.e. 90% as training data and 10% as test data\n",
        "x_train, x_test, y_train, y_test = train_test_split(df['message'], df['label'], test_size=0.10, random_state=42)"
      ],
      "execution_count": null,
      "outputs": []
    },
    {
      "cell_type": "code",
      "metadata": {
        "id": "3tL0ZfSXo76O",
        "colab": {
          "base_uri": "https://localhost:8080/"
        },
        "outputId": "a59c51de-c627-4a99-ee30-7ba0f921d3e4"
      },
      "source": [
        "x_train"
      ],
      "execution_count": null,
      "outputs": [
        {
          "output_type": "execute_result",
          "data": {
            "text/plain": [
              "362047                                    aapl excellent bit\n",
              "421955     price returns vs expected daily move gdx vxx p...\n",
              "138613                                    sell amzn buy aapl\n",
              "1994325                                         nflx liftoff\n",
              "2105680                nflx spy totally knew look beat yowza\n",
              "                                 ...                        \n",
              "23726      uonek bears salty either way I going fun shit ...\n",
              "205590     spy notice whenever hf shorts getting killed g...\n",
              "1407460    amazon pullback creates 39 major buying opport...\n",
              "1746008            dis heating earnings get three year range\n",
              "313513     78 instruments 1h midday update updated elliot...\n",
              "Name: message, Length: 740799, dtype: object"
            ]
          },
          "metadata": {
            "tags": []
          },
          "execution_count": 50
        }
      ]
    },
    {
      "cell_type": "code",
      "metadata": {
        "id": "n392YYZXo-bI",
        "colab": {
          "base_uri": "https://localhost:8080/"
        },
        "outputId": "79b509f4-1cbc-4892-a446-218672456201"
      },
      "source": [
        "y_test.value_counts()"
      ],
      "execution_count": null,
      "outputs": [
        {
          "output_type": "execute_result",
          "data": {
            "text/plain": [
              "1    45159\n",
              "0    37152\n",
              "Name: label, dtype: int64"
            ]
          },
          "metadata": {
            "tags": []
          },
          "execution_count": 51
        }
      ]
    },
    {
      "cell_type": "code",
      "metadata": {
        "id": "cEJW7gML8mD8"
      },
      "source": [
        "# Defining GridSearch pipeline parameter for Random forest classification\n",
        "from sklearn.pipeline import Pipeline\n",
        "from sklearn.ensemble import RandomForestClassifier\n",
        "from sklearn.feature_extraction.text import CountVectorizer, TfidfTransformer\n",
        "from sklearn.model_selection import train_test_split, GridSearchCV\n",
        "RandomForestClassifier(class_weight='blanced')\n",
        "text_clf = Pipeline([('vect', CountVectorizer()),\n",
        "                     ('tfidf', TfidfTransformer()),\n",
        "                     ('clf', RandomForestClassifier())])\n",
        "tuned_parameters = {\n",
        "    'tfidf__use_idf': ['True'],\n",
        "    'clf__max_features':['sqrt'],\n",
        "    'clf__max_depth' : [5],\n",
        "    'clf__n_estimators':[200],\n",
        "    'clf__class_weight': ['balanced']\n",
        "}"
      ],
      "execution_count": null,
      "outputs": []
    },
    {
      "cell_type": "code",
      "metadata": {
        "id": "_aXuDcBzvMdc",
        "colab": {
          "base_uri": "https://localhost:8080/"
        },
        "outputId": "02401f1f-6239-4c2d-bbd2-3283c535849a"
      },
      "source": [
        "# Get the keys values for parameters to use in pipeline\n",
        "text_clf.get_params().keys()"
      ],
      "execution_count": null,
      "outputs": [
        {
          "output_type": "execute_result",
          "data": {
            "text/plain": [
              "dict_keys(['memory', 'steps', 'verbose', 'vect', 'tfidf', 'clf', 'vect__analyzer', 'vect__binary', 'vect__decode_error', 'vect__dtype', 'vect__encoding', 'vect__input', 'vect__lowercase', 'vect__max_df', 'vect__max_features', 'vect__min_df', 'vect__ngram_range', 'vect__preprocessor', 'vect__stop_words', 'vect__strip_accents', 'vect__token_pattern', 'vect__tokenizer', 'vect__vocabulary', 'tfidf__norm', 'tfidf__smooth_idf', 'tfidf__sublinear_tf', 'tfidf__use_idf', 'clf__bootstrap', 'clf__ccp_alpha', 'clf__class_weight', 'clf__criterion', 'clf__max_depth', 'clf__max_features', 'clf__max_leaf_nodes', 'clf__max_samples', 'clf__min_impurity_decrease', 'clf__min_impurity_split', 'clf__min_samples_leaf', 'clf__min_samples_split', 'clf__min_weight_fraction_leaf', 'clf__n_estimators', 'clf__n_jobs', 'clf__oob_score', 'clf__random_state', 'clf__verbose', 'clf__warm_start'])"
            ]
          },
          "metadata": {
            "tags": []
          },
          "execution_count": 14
        }
      ]
    },
    {
      "cell_type": "code",
      "metadata": {
        "id": "L-J9hYZC80AM",
        "colab": {
          "base_uri": "https://localhost:8080/"
        },
        "outputId": "632847c0-171d-4986-9bbb-c95a0b9b83f2"
      },
      "source": [
        "# Traiing the model\n",
        "from sklearn.metrics import classification_report\n",
        "clf = GridSearchCV(text_clf, tuned_parameters)\n",
        "clf.fit(x_train, y_train)\n",
        "\n",
        "# Print the classification report\n",
        "print(classification_report(y_test, clf.predict(x_test), digits=4))"
      ],
      "execution_count": null,
      "outputs": [
        {
          "output_type": "stream",
          "text": [
            "              precision    recall  f1-score   support\n",
            "\n",
            "           0     0.5059    0.5126    0.5092     47135\n",
            "           1     0.5776    0.5711    0.5743     55010\n",
            "\n",
            "    accuracy                         0.5441    102145\n",
            "   macro avg     0.5418    0.5418    0.5418    102145\n",
            "weighted avg     0.5445    0.5441    0.5443    102145\n",
            "\n"
          ],
          "name": "stdout"
        }
      ]
    },
    {
      "cell_type": "code",
      "metadata": {
        "id": "5_tIX7XUfqnw",
        "colab": {
          "base_uri": "https://localhost:8080/"
        },
        "outputId": "c5e73d79-6f2a-4412-9b03-048518d48c22"
      },
      "source": [
        "# Print the best parameters\n",
        "clf.best_params_"
      ],
      "execution_count": null,
      "outputs": [
        {
          "output_type": "execute_result",
          "data": {
            "text/plain": [
              "{'clf__class_weight': 'balanced',\n",
              " 'clf__criterion': 'gini',\n",
              " 'clf__max_depth': 5,\n",
              " 'clf__max_features': 'sqrt',\n",
              " 'clf__n_estimators': 200}"
            ]
          },
          "metadata": {
            "tags": []
          },
          "execution_count": 19
        }
      ]
    },
    {
      "cell_type": "code",
      "metadata": {
        "id": "SxY8jiySGz2Q",
        "colab": {
          "base_uri": "https://localhost:8080/"
        },
        "outputId": "8e15b92d-9ed7-4563-9e10-2ce41b378bd3"
      },
      "source": [
        "# Print the best estimators\n",
        "clf.best_estimator_"
      ],
      "execution_count": null,
      "outputs": [
        {
          "output_type": "execute_result",
          "data": {
            "text/plain": [
              "Pipeline(memory=None,\n",
              "         steps=[('vect',\n",
              "                 CountVectorizer(analyzer='word', binary=False,\n",
              "                                 decode_error='strict',\n",
              "                                 dtype=<class 'numpy.int64'>, encoding='utf-8',\n",
              "                                 input='content', lowercase=True, max_df=1.0,\n",
              "                                 max_features=None, min_df=1,\n",
              "                                 ngram_range=(1, 1), preprocessor=None,\n",
              "                                 stop_words=None, strip_accents=None,\n",
              "                                 token_pattern='(?u)\\\\b\\\\w\\\\w+\\\\b',\n",
              "                                 tokenizer=None, vocabulary=Non...\n",
              "                 RandomForestClassifier(bootstrap=True, ccp_alpha=0.0,\n",
              "                                        class_weight='balanced',\n",
              "                                        criterion='gini', max_depth=5,\n",
              "                                        max_features='sqrt',\n",
              "                                        max_leaf_nodes=None, max_samples=None,\n",
              "                                        min_impurity_decrease=0.0,\n",
              "                                        min_impurity_split=None,\n",
              "                                        min_samples_leaf=1, min_samples_split=2,\n",
              "                                        min_weight_fraction_leaf=0.0,\n",
              "                                        n_estimators=200, n_jobs=None,\n",
              "                                        oob_score=False, random_state=None,\n",
              "                                        verbose=0, warm_start=False))],\n",
              "         verbose=False)"
            ]
          },
          "metadata": {
            "tags": []
          },
          "execution_count": 20
        }
      ]
    },
    {
      "cell_type": "code",
      "metadata": {
        "id": "hXquVwdfj9Lz"
      },
      "source": [
        "import pickle\n",
        "\n",
        "#Save Vectorizer\n",
        "vec_file = '/content/drive/My Drive/Capstone/traditionalML/Random_forest_3label_vectorizerv1.pickle'\n",
        "pickle.dump(count_vect, open(vec_file, 'wb'))\n",
        "\n",
        "# Save the model\n",
        "with open('/content/drive/My Drive/Capstone/traditionalML/Random_forest_3labelv1.model', 'wb') as f:\n",
        "    pickle.dump(clf, f)"
      ],
      "execution_count": null,
      "outputs": []
    },
    {
      "cell_type": "code",
      "metadata": {
        "id": "qlCShQ9Beb8-"
      },
      "source": [
        "predicted_forest = clf.predict(x_test)"
      ],
      "execution_count": null,
      "outputs": []
    },
    {
      "cell_type": "code",
      "metadata": {
        "id": "r48J0WOKGxW0",
        "colab": {
          "base_uri": "https://localhost:8080/",
          "height": 864
        },
        "outputId": "76c80284-7736-4c2d-ae07-01ca285e7d69"
      },
      "source": [
        "# Generate the confusion matrix for the predicted values\n",
        "%matplotlib inline\n",
        "from matplotlib import pyplot as plt\n",
        "from sklearn.metrics import confusion_matrix\n",
        "import seaborn as sns\n",
        "\n",
        "plt.figure(dpi=400)\n",
        "mat = confusion_matrix(y_test, predicted_forest)\n",
        "sns.heatmap(mat.T, annot=True, fmt='d', cbar=False)\n",
        "\n",
        "plt.title('Confusion Matrix for Random Forest Classifier')\n",
        "plt.xlabel('true label')\n",
        "plt.ylabel('predicted label')\n",
        "# plt.savefig(\"assets/confusion_matrix.png\")\n",
        "plt.show()"
      ],
      "execution_count": null,
      "outputs": [
        {
          "output_type": "display_data",
          "data": {
            "image/png": "[encoded data removed]",
            "text/plain": [
              "<Figure size 2400x1600 with 1 Axes>"
            ]
          },
          "metadata": {
            "tags": [],
            "needs_background": "light"
          }
        }
      ]
    }
  ]
}